{
 "cells": [
  {
   "cell_type": "code",
   "execution_count": 1,
   "metadata": {},
   "outputs": [
    {
     "name": "stdout",
     "output_type": "stream",
     "text": [
      "0.3333333333333333\n"
     ]
    }
   ],
   "source": [
    "# hamming distance : it is calculating the dustance between two binary vectors or binary string\n",
    "\n",
    "def hamming_distance(a,b):\n",
    "    return sum(abs(e1-e2) for e1,e2 in zip(a,b)) /len(a)\n",
    "\n",
    "\n",
    "row1=[0,0,0,0,1,1]\n",
    "row2=[0,0,1,0,1,0]\n",
    "\n",
    "dist=hamming_distance(row1,row2)\n",
    "print(dist)"
   ]
  },
  {
   "cell_type": "code",
   "execution_count": 2,
   "metadata": {},
   "outputs": [
    {
     "data": {
      "text/plain": [
       "0.3333333333333333"
      ]
     },
     "execution_count": 2,
     "metadata": {},
     "output_type": "execute_result"
    }
   ],
   "source": [
    "2/6"
   ]
  },
  {
   "cell_type": "code",
   "execution_count": 3,
   "metadata": {},
   "outputs": [
    {
     "name": "stdout",
     "output_type": "stream",
     "text": [
      "0.3333333333333333\n"
     ]
    }
   ],
   "source": [
    "from scipy.spatial.distance import hamming\n",
    "dist=hamming(row1,row2)\n",
    "print(dist)"
   ]
  },
  {
   "cell_type": "code",
   "execution_count": 4,
   "metadata": {},
   "outputs": [
    {
     "name": "stdout",
     "output_type": "stream",
     "text": [
      "36.810324638611924\n"
     ]
    }
   ],
   "source": [
    "from math import sqrt\n",
    "def euclidean_distance(a,b):\n",
    "    return sqrt(sum((e1-e2)**2 for e1,e2 in zip(a,b)))\n",
    "row1=[10,20,15,16,12,18]\n",
    "row2=[18,13,50,17,12,14,]\n",
    "\n",
    "dist=euclidean_distance(row1,row2)\n",
    "print(dist)"
   ]
  },
  {
   "cell_type": "code",
   "execution_count": 5,
   "metadata": {},
   "outputs": [
    {
     "name": "stdout",
     "output_type": "stream",
     "text": [
      "36.810324638611924\n"
     ]
    }
   ],
   "source": [
    "from scipy.spatial.distance import euclidean\n",
    "dist=euclidean(row1,row2)\n",
    "print(dist)"
   ]
  },
  {
   "cell_type": "code",
   "execution_count": 6,
   "metadata": {},
   "outputs": [
    {
     "name": "stdout",
     "output_type": "stream",
     "text": [
      "55\n"
     ]
    }
   ],
   "source": [
    "# manhatten distance : it is used to calculate the distance between two real value vectors\n",
    "\n",
    "\n",
    "def manhatten_distance(a,b):\n",
    "    return sum(abs(e1-e2) for e1,e2 in zip (a,b))\n",
    "\n",
    "\n",
    "row1=[10,20,15,16,12,18]\n",
    "row2=[18,13,50,17,12,14,]\n",
    "\n",
    "dist=manhatten_distance(row1,row2)\n",
    "print(dist)"
   ]
  },
  {
   "cell_type": "code",
   "execution_count": 7,
   "metadata": {},
   "outputs": [
    {
     "name": "stdout",
     "output_type": "stream",
     "text": [
      "55\n"
     ]
    }
   ],
   "source": [
    "from scipy.spatial.distance import cityblock\n",
    "\n",
    "dist=cityblock(row1,row2)\n",
    "print(dist)"
   ]
  },
  {
   "cell_type": "code",
   "execution_count": 8,
   "metadata": {},
   "outputs": [
    {
     "name": "stdout",
     "output_type": "stream",
     "text": [
      "55.0\n",
      "36.810324638611924\n"
     ]
    }
   ],
   "source": [
    "def minkowski_distance(a,b,p):\n",
    "    return sum(abs(e1-e2)**p for e1,e2 in zip (a,b)) ** (1/p)\n",
    "\n",
    "row1=[10,20,15,16,12,18]\n",
    "row2=[18,13,50,17,12,14,]\n",
    "\n",
    "dist=minkowski_distance(row1,row2,1)\n",
    "print(dist)\n",
    "\n",
    "dist=minkowski_distance(row1,row2,2)\n",
    "print(dist)\n"
   ]
  },
  {
   "cell_type": "code",
   "execution_count": 9,
   "metadata": {},
   "outputs": [
    {
     "data": {
      "text/plain": [
       "36.810324638611924"
      ]
     },
     "execution_count": 9,
     "metadata": {},
     "output_type": "execute_result"
    }
   ],
   "source": [
    "from scipy.spatial.distance import minkowski\n",
    "minkowski(row1,row2,1)\n",
    "\n",
    "minkowski(row1,row2,2)"
   ]
  },
  {
   "cell_type": "code",
   "execution_count": 31,
   "metadata": {},
   "outputs": [
    {
     "ename": "SyntaxError",
     "evalue": "invalid syntax (<ipython-input-31-afc275c286f7>, line 1)",
     "output_type": "error",
     "traceback": [
      "\u001b[1;36m  File \u001b[1;32m\"<ipython-input-31-afc275c286f7>\"\u001b[1;36m, line \u001b[1;32m1\u001b[0m\n\u001b[1;33m    import math *\u001b[0m\n\u001b[1;37m                ^\u001b[0m\n\u001b[1;31mSyntaxError\u001b[0m\u001b[1;31m:\u001b[0m invalid syntax\n"
     ]
    }
   ],
   "source": [
    " import math \n",
    "sum(abs(10-7)+abs(8-15))"
   ]
  },
  {
   "cell_type": "code",
   "execution_count": null,
   "metadata": {},
   "outputs": [],
   "source": []
  }
 ],
 "metadata": {
  "kernelspec": {
   "display_name": "Python 3",
   "language": "python",
   "name": "python3"
  },
  "language_info": {
   "codemirror_mode": {
    "name": "ipython",
    "version": 3
   },
   "file_extension": ".py",
   "mimetype": "text/x-python",
   "name": "python",
   "nbconvert_exporter": "python",
   "pygments_lexer": "ipython3",
   "version": "3.8.3"
  }
 },
 "nbformat": 4,
 "nbformat_minor": 4
}
