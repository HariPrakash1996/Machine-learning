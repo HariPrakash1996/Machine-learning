{
 "cells": [
  {
   "cell_type": "markdown",
   "metadata": {},
   "source": [
    "#                          DECISION TREE\n",
    "\n",
    "\n",
    "\n",
    "* it is one of the most algorithm\n",
    "* it is a supervised learning technique\n",
    "* it can be used for both classification and regression\n",
    "* it is a tree structure classifier\n",
    "\n",
    "\n",
    "\n",
    "# *\n",
    "\n",
    "\n",
    "* it has if_else rules based conditions of given data\n",
    "* internal nodes represent the features of dataset\n",
    "* branches represents the decision rules\n",
    "* leaf node represent the outcome\n",
    "* basically we have 2 nodes in decision tree:\n",
    "* 1.decision node : it is used to make decisions \n",
    "* 2. leaf node : it is an output node it doesnot contain any further branches\n",
    "* both nodes are used to make any decisions\n",
    "* INORDER TO BUILT THE DECISION TREE ALGORITHM WE USE CART : it stands for cassification and regression tree algorithm\n"
   ]
  },
  {
   "cell_type": "markdown",
   "metadata": {},
   "source": [
    "#   why we use the decision tree algorithm\n",
    "\n",
    "* decision tree is AI application\n",
    "* mimic of human thinking ability while aking a decision tree like structure\n"
   ]
  },
  {
   "cell_type": "markdown",
   "metadata": {},
   "source": [
    "#        TERMINOLOGIES\n",
    "\n",
    "\n",
    "# 1.root node: \n",
    "* it is a parent or child node\n",
    "* it is where the decision tree starts it represents the entire data which further gets divided into 2 or more homogeneous datasets.\n",
    "# 2. LEAF NODE:\n",
    "* final output node\n",
    "* and tree can,t be seggregated further after getting leaf nodes\n",
    "# 3.splitting:\n",
    "* it is the process of dividing the  decision node  or root node into sub nodes according to the given condition \n",
    "\n",
    "# 4. branch or subtree:\n",
    "* a tree formed by splitting the tree is called subtree\n",
    "* the root node of the tree called parent node\n",
    "* other nodes called leaf node\n",
    "# 5.pruning:\n",
    "* it is the process of removing the unwanted branches from the tree "
   ]
  },
  {
   "cell_type": "markdown",
   "metadata": {},
   "source": [
    "# how does the decision tree algorithm works\n",
    "\n",
    "\n",
    "# step 1:\n",
    "* algorithm always starts from root node\n",
    "\n",
    "# step 2 :\n",
    "* begin the tree with root node (S) contains complete dataset\n",
    "\n",
    "# step 3 :\n",
    "* find the best attribute in the dataset using asm : attribute measureemnt selection\n",
    "\n",
    "# step 4:\n",
    "* divides the (S) into subsets that contains possible values for best attribute \n",
    "# step 5:\n",
    "* generate the decision tree nodes which contains the best attribute \n",
    "\n",
    "\n",
    "# step 6:\n",
    "\n",
    "\n",
    "* recursively make a new decision tree using the subset 3 \n",
    "* continue this step until the a stage is raeched where u cant classified the nodes\n",
    "* its called final node as leaf node"
   ]
  },
  {
   "cell_type": "markdown",
   "metadata": {},
   "source": [
    "#           ASM : attribute selection measurement\n",
    "\n",
    "\n",
    "* with the help of asm we can easiy select attributes\n",
    "* asm is divided into 2 types:\n",
    "\n",
    "# 1. information gain\n",
    "# 2.gini index"
   ]
  },
  {
   "cell_type": "markdown",
   "metadata": {},
   "source": [
    "# how to choose the asm of given data\n",
    "\n",
    "\n",
    "* it is the measurement of changes in entropy after the segmentation of the dataset based on attributes\n",
    "* how much amount of information does each variable contributing to the model\n",
    "\n",
    "\n",
    "\n",
    "# i.g= entropy at the root node - sum of weighted entropy at each child node \n",
    "\n",
    "\n",
    "# entropy: it measures the impurity of   a dataset  \n",
    "* its range is 0 to 1 \n",
    "* if entropy is close to 0 its a pure node\n",
    "* if entropy is close to 1 the its a impure node"
   ]
  },
  {
   "cell_type": "markdown",
   "metadata": {},
   "source": [
    "# gini index: its a measure of purity or impurity used whole craeting a decsion tree in the CART\n",
    "\n",
    "* an attribute with low gini index shold be returned as compared with the high gini index "
   ]
  },
  {
   "cell_type": "code",
   "execution_count": 1,
   "metadata": {},
   "outputs": [],
   "source": [
    "import pandas as pd\n",
    "import numpy as np\n",
    "import matplotlib.pyplot as plt\n",
    "import seaborn as sbn\n",
    "import os\n",
    "import math\n",
    "import glob"
   ]
  },
  {
   "cell_type": "code",
   "execution_count": 2,
   "metadata": {},
   "outputs": [],
   "source": [
    "x=pd.read_excel(r\"E:\\ds course\\projects\\case_study_1\\Telco_Bill_data_v1.xlsx\")"
   ]
  },
  {
   "cell_type": "code",
   "execution_count": 3,
   "metadata": {},
   "outputs": [
    {
     "data": {
      "text/html": [
       "<div>\n",
       "<style scoped>\n",
       "    .dataframe tbody tr th:only-of-type {\n",
       "        vertical-align: middle;\n",
       "    }\n",
       "\n",
       "    .dataframe tbody tr th {\n",
       "        vertical-align: top;\n",
       "    }\n",
       "\n",
       "    .dataframe thead th {\n",
       "        text-align: right;\n",
       "    }\n",
       "</style>\n",
       "<table border=\"1\" class=\"dataframe\">\n",
       "  <thead>\n",
       "    <tr style=\"text-align: right;\">\n",
       "      <th></th>\n",
       "      <th>CIRCLE</th>\n",
       "      <th>HIERARCHY_ID</th>\n",
       "      <th>PARENT_ID</th>\n",
       "      <th>ACCOUNT_NO</th>\n",
       "      <th>SUBSCR_NO</th>\n",
       "      <th>DEL_NO</th>\n",
       "      <th>SERVICE_ACTIVE_DT</th>\n",
       "      <th>INVOICE_NO</th>\n",
       "      <th>BILL_SEQUENCE_NUM</th>\n",
       "      <th>MONTH_YY</th>\n",
       "      <th>...</th>\n",
       "      <th>ADJ_AMOUNT</th>\n",
       "      <th>ACT_ACTIVE_DT</th>\n",
       "      <th>PACKAGE_ID</th>\n",
       "      <th>PRICE_PLAN</th>\n",
       "      <th>BILL_ZIP</th>\n",
       "      <th>CUSTOMER_SEGMENT</th>\n",
       "      <th>STATUS</th>\n",
       "      <th>OTHERS</th>\n",
       "      <th>OTHERS_UNITS</th>\n",
       "      <th>REV_RCV_COST_CENTER</th>\n",
       "    </tr>\n",
       "  </thead>\n",
       "  <tbody>\n",
       "    <tr>\n",
       "      <th>0</th>\n",
       "      <td>Karnataka</td>\n",
       "      <td>206190410</td>\n",
       "      <td>NaN</td>\n",
       "      <td>206190410</td>\n",
       "      <td>14218954</td>\n",
       "      <td>9243148228</td>\n",
       "      <td>2006-06-22</td>\n",
       "      <td>1225097295</td>\n",
       "      <td>71</td>\n",
       "      <td>APR_12</td>\n",
       "      <td>...</td>\n",
       "      <td>0.0</td>\n",
       "      <td>2006-06-22</td>\n",
       "      <td>54518.0</td>\n",
       "      <td>CMo - Millennium Edition 1</td>\n",
       "      <td>560095</td>\n",
       "      <td>S</td>\n",
       "      <td>ACTIVE</td>\n",
       "      <td>0.0</td>\n",
       "      <td>0</td>\n",
       "      <td>BANGALORE</td>\n",
       "    </tr>\n",
       "    <tr>\n",
       "      <th>1</th>\n",
       "      <td>Karnataka</td>\n",
       "      <td>206197211</td>\n",
       "      <td>NaN</td>\n",
       "      <td>206197211</td>\n",
       "      <td>14232708</td>\n",
       "      <td>9243264060</td>\n",
       "      <td>2006-06-24</td>\n",
       "      <td>1207231515</td>\n",
       "      <td>70</td>\n",
       "      <td>APR_12</td>\n",
       "      <td>...</td>\n",
       "      <td>0.0</td>\n",
       "      <td>2006-06-23</td>\n",
       "      <td>617691.0</td>\n",
       "      <td>0610/BOTH/CM/TRF/NU/PO/CMO PPS 99-0610 Plan</td>\n",
       "      <td>580029</td>\n",
       "      <td>S</td>\n",
       "      <td>ACTIVE</td>\n",
       "      <td>0.0</td>\n",
       "      <td>0</td>\n",
       "      <td>HUBLI</td>\n",
       "    </tr>\n",
       "  </tbody>\n",
       "</table>\n",
       "<p>2 rows × 35 columns</p>\n",
       "</div>"
      ],
      "text/plain": [
       "      CIRCLE  HIERARCHY_ID  PARENT_ID  ACCOUNT_NO  SUBSCR_NO      DEL_NO  \\\n",
       "0  Karnataka     206190410        NaN   206190410   14218954  9243148228   \n",
       "1  Karnataka     206197211        NaN   206197211   14232708  9243264060   \n",
       "\n",
       "  SERVICE_ACTIVE_DT  INVOICE_NO  BILL_SEQUENCE_NUM MONTH_YY  ... ADJ_AMOUNT  \\\n",
       "0        2006-06-22  1225097295                 71   APR_12  ...        0.0   \n",
       "1        2006-06-24  1207231515                 70   APR_12  ...        0.0   \n",
       "\n",
       "  ACT_ACTIVE_DT PACKAGE_ID                                   PRICE_PLAN  \\\n",
       "0    2006-06-22    54518.0                   CMo - Millennium Edition 1   \n",
       "1    2006-06-23   617691.0  0610/BOTH/CM/TRF/NU/PO/CMO PPS 99-0610 Plan   \n",
       "\n",
       "  BILL_ZIP  CUSTOMER_SEGMENT  STATUS  OTHERS  OTHERS_UNITS  \\\n",
       "0   560095                 S  ACTIVE     0.0             0   \n",
       "1   580029                 S  ACTIVE     0.0             0   \n",
       "\n",
       "   REV_RCV_COST_CENTER  \n",
       "0            BANGALORE  \n",
       "1                HUBLI  \n",
       "\n",
       "[2 rows x 35 columns]"
      ]
     },
     "execution_count": 3,
     "metadata": {},
     "output_type": "execute_result"
    }
   ],
   "source": [
    "x.head(2)"
   ]
  },
  {
   "cell_type": "code",
   "execution_count": 4,
   "metadata": {},
   "outputs": [
    {
     "data": {
      "text/plain": [
       "(31160, 35)"
      ]
     },
     "execution_count": 4,
     "metadata": {},
     "output_type": "execute_result"
    }
   ],
   "source": [
    "x.shape"
   ]
  },
  {
   "cell_type": "code",
   "execution_count": 5,
   "metadata": {},
   "outputs": [
    {
     "data": {
      "text/plain": [
       "Index(['CIRCLE', 'HIERARCHY_ID', 'PARENT_ID', 'ACCOUNT_NO', 'SUBSCR_NO',\n",
       "       'DEL_NO', 'SERVICE_ACTIVE_DT', 'INVOICE_NO', 'BILL_SEQUENCE_NUM',\n",
       "       'MONTH_YY', 'BILL_PERIOD', 'BILL_COMPANY', 'ACCOUNT_CATEGORY',\n",
       "       'MKT_SEGMENT', 'PRODUCT', 'DATA_USAGE', 'DATA_USAGE_UNITS',\n",
       "       'NRC_AMOUNT', 'RC_AMOUNT', 'TAX_AMOUNT', 'NEW_CHRGS', 'CURRENT_CHRGS',\n",
       "       'HANDSET_AMOUNT', 'UNITCREDIT_AMOUNT', 'DISCOUNT', 'ADJ_AMOUNT',\n",
       "       'ACT_ACTIVE_DT', 'PACKAGE_ID', 'PRICE_PLAN', 'BILL_ZIP',\n",
       "       'CUSTOMER_SEGMENT', 'STATUS', 'OTHERS', 'OTHERS_UNITS',\n",
       "       'REV_RCV_COST_CENTER'],\n",
       "      dtype='object')"
      ]
     },
     "execution_count": 5,
     "metadata": {},
     "output_type": "execute_result"
    }
   ],
   "source": [
    "x.columns"
   ]
  },
  {
   "cell_type": "code",
   "execution_count": 6,
   "metadata": {},
   "outputs": [
    {
     "data": {
      "text/plain": [
       "0        14218954\n",
       "1        14232708\n",
       "2        30193905\n",
       "3        29632374\n",
       "4        12402673\n",
       "           ...   \n",
       "31155    39342213\n",
       "31156    39258538\n",
       "31157    39239175\n",
       "31158    39221104\n",
       "31159    39186066\n",
       "Name: SUBSCR_NO, Length: 31160, dtype: int64"
      ]
     },
     "execution_count": 6,
     "metadata": {},
     "output_type": "execute_result"
    }
   ],
   "source": [
    "x.iloc[:,4]"
   ]
  },
  {
   "cell_type": "code",
   "execution_count": 7,
   "metadata": {},
   "outputs": [
    {
     "data": {
      "text/html": [
       "<div>\n",
       "<style scoped>\n",
       "    .dataframe tbody tr th:only-of-type {\n",
       "        vertical-align: middle;\n",
       "    }\n",
       "\n",
       "    .dataframe tbody tr th {\n",
       "        vertical-align: top;\n",
       "    }\n",
       "\n",
       "    .dataframe thead th {\n",
       "        text-align: right;\n",
       "    }\n",
       "</style>\n",
       "<table border=\"1\" class=\"dataframe\">\n",
       "  <thead>\n",
       "    <tr style=\"text-align: right;\">\n",
       "      <th></th>\n",
       "      <th>PARENT_ID</th>\n",
       "      <th>DEL_NO</th>\n",
       "    </tr>\n",
       "  </thead>\n",
       "  <tbody>\n",
       "    <tr>\n",
       "      <th>0</th>\n",
       "      <td>NaN</td>\n",
       "      <td>9243148228</td>\n",
       "    </tr>\n",
       "    <tr>\n",
       "      <th>1</th>\n",
       "      <td>NaN</td>\n",
       "      <td>9243264060</td>\n",
       "    </tr>\n",
       "    <tr>\n",
       "      <th>2</th>\n",
       "      <td>NaN</td>\n",
       "      <td>8951061271</td>\n",
       "    </tr>\n",
       "    <tr>\n",
       "      <th>3</th>\n",
       "      <td>NaN</td>\n",
       "      <td>8951033996</td>\n",
       "    </tr>\n",
       "    <tr>\n",
       "      <th>4</th>\n",
       "      <td>976991804.0</td>\n",
       "      <td>9241079722</td>\n",
       "    </tr>\n",
       "    <tr>\n",
       "      <th>...</th>\n",
       "      <td>...</td>\n",
       "      <td>...</td>\n",
       "    </tr>\n",
       "    <tr>\n",
       "      <th>31155</th>\n",
       "      <td>NaN</td>\n",
       "      <td>7411098935</td>\n",
       "    </tr>\n",
       "    <tr>\n",
       "      <th>31156</th>\n",
       "      <td>NaN</td>\n",
       "      <td>8123023475</td>\n",
       "    </tr>\n",
       "    <tr>\n",
       "      <th>31157</th>\n",
       "      <td>NaN</td>\n",
       "      <td>9035025032</td>\n",
       "    </tr>\n",
       "    <tr>\n",
       "      <th>31158</th>\n",
       "      <td>NaN</td>\n",
       "      <td>8050068409</td>\n",
       "    </tr>\n",
       "    <tr>\n",
       "      <th>31159</th>\n",
       "      <td>NaN</td>\n",
       "      <td>8123093503</td>\n",
       "    </tr>\n",
       "  </tbody>\n",
       "</table>\n",
       "<p>31160 rows × 2 columns</p>\n",
       "</div>"
      ],
      "text/plain": [
       "         PARENT_ID      DEL_NO\n",
       "0              NaN  9243148228\n",
       "1              NaN  9243264060\n",
       "2              NaN  8951061271\n",
       "3              NaN  8951033996\n",
       "4      976991804.0  9241079722\n",
       "...            ...         ...\n",
       "31155          NaN  7411098935\n",
       "31156          NaN  8123023475\n",
       "31157          NaN  9035025032\n",
       "31158          NaN  8050068409\n",
       "31159          NaN  8123093503\n",
       "\n",
       "[31160 rows x 2 columns]"
      ]
     },
     "execution_count": 7,
     "metadata": {},
     "output_type": "execute_result"
    }
   ],
   "source": [
    "x.iloc[:,[2,5]]"
   ]
  },
  {
   "cell_type": "code",
   "execution_count": 9,
   "metadata": {},
   "outputs": [],
   "source": [
    "y=x.select_dtypes(include=[np.number])"
   ]
  },
  {
   "cell_type": "code",
   "execution_count": 10,
   "metadata": {},
   "outputs": [
    {
     "data": {
      "text/html": [
       "<div>\n",
       "<style scoped>\n",
       "    .dataframe tbody tr th:only-of-type {\n",
       "        vertical-align: middle;\n",
       "    }\n",
       "\n",
       "    .dataframe tbody tr th {\n",
       "        vertical-align: top;\n",
       "    }\n",
       "\n",
       "    .dataframe thead th {\n",
       "        text-align: right;\n",
       "    }\n",
       "</style>\n",
       "<table border=\"1\" class=\"dataframe\">\n",
       "  <thead>\n",
       "    <tr style=\"text-align: right;\">\n",
       "      <th></th>\n",
       "      <th>HIERARCHY_ID</th>\n",
       "      <th>PARENT_ID</th>\n",
       "      <th>ACCOUNT_NO</th>\n",
       "      <th>SUBSCR_NO</th>\n",
       "      <th>DEL_NO</th>\n",
       "      <th>INVOICE_NO</th>\n",
       "      <th>BILL_SEQUENCE_NUM</th>\n",
       "      <th>DATA_USAGE</th>\n",
       "      <th>DATA_USAGE_UNITS</th>\n",
       "      <th>NRC_AMOUNT</th>\n",
       "      <th>...</th>\n",
       "      <th>NEW_CHRGS</th>\n",
       "      <th>CURRENT_CHRGS</th>\n",
       "      <th>HANDSET_AMOUNT</th>\n",
       "      <th>UNITCREDIT_AMOUNT</th>\n",
       "      <th>DISCOUNT</th>\n",
       "      <th>ADJ_AMOUNT</th>\n",
       "      <th>PACKAGE_ID</th>\n",
       "      <th>BILL_ZIP</th>\n",
       "      <th>OTHERS</th>\n",
       "      <th>OTHERS_UNITS</th>\n",
       "    </tr>\n",
       "  </thead>\n",
       "  <tbody>\n",
       "    <tr>\n",
       "      <th>0</th>\n",
       "      <td>206190410</td>\n",
       "      <td>NaN</td>\n",
       "      <td>206190410</td>\n",
       "      <td>14218954</td>\n",
       "      <td>9243148228</td>\n",
       "      <td>1225097295</td>\n",
       "      <td>71</td>\n",
       "      <td>0.0</td>\n",
       "      <td>0</td>\n",
       "      <td>0</td>\n",
       "      <td>...</td>\n",
       "      <td>561.80</td>\n",
       "      <td>561.80</td>\n",
       "      <td>0</td>\n",
       "      <td>0.0</td>\n",
       "      <td>-250.0</td>\n",
       "      <td>0.0</td>\n",
       "      <td>54518.0</td>\n",
       "      <td>560095</td>\n",
       "      <td>0.0</td>\n",
       "      <td>0</td>\n",
       "    </tr>\n",
       "    <tr>\n",
       "      <th>1</th>\n",
       "      <td>206197211</td>\n",
       "      <td>NaN</td>\n",
       "      <td>206197211</td>\n",
       "      <td>14232708</td>\n",
       "      <td>9243264060</td>\n",
       "      <td>1207231515</td>\n",
       "      <td>70</td>\n",
       "      <td>0.0</td>\n",
       "      <td>0</td>\n",
       "      <td>0</td>\n",
       "      <td>...</td>\n",
       "      <td>224.35</td>\n",
       "      <td>224.35</td>\n",
       "      <td>0</td>\n",
       "      <td>0.0</td>\n",
       "      <td>-80.0</td>\n",
       "      <td>0.0</td>\n",
       "      <td>617691.0</td>\n",
       "      <td>580029</td>\n",
       "      <td>0.0</td>\n",
       "      <td>0</td>\n",
       "    </tr>\n",
       "  </tbody>\n",
       "</table>\n",
       "<p>2 rows × 22 columns</p>\n",
       "</div>"
      ],
      "text/plain": [
       "   HIERARCHY_ID  PARENT_ID  ACCOUNT_NO  SUBSCR_NO      DEL_NO  INVOICE_NO  \\\n",
       "0     206190410        NaN   206190410   14218954  9243148228  1225097295   \n",
       "1     206197211        NaN   206197211   14232708  9243264060  1207231515   \n",
       "\n",
       "   BILL_SEQUENCE_NUM  DATA_USAGE  DATA_USAGE_UNITS  NRC_AMOUNT  ...  \\\n",
       "0                 71         0.0                 0           0  ...   \n",
       "1                 70         0.0                 0           0  ...   \n",
       "\n",
       "   NEW_CHRGS  CURRENT_CHRGS  HANDSET_AMOUNT  UNITCREDIT_AMOUNT  DISCOUNT  \\\n",
       "0     561.80         561.80               0                0.0    -250.0   \n",
       "1     224.35         224.35               0                0.0     -80.0   \n",
       "\n",
       "   ADJ_AMOUNT  PACKAGE_ID  BILL_ZIP  OTHERS  OTHERS_UNITS  \n",
       "0         0.0     54518.0    560095     0.0             0  \n",
       "1         0.0    617691.0    580029     0.0             0  \n",
       "\n",
       "[2 rows x 22 columns]"
      ]
     },
     "execution_count": 10,
     "metadata": {},
     "output_type": "execute_result"
    }
   ],
   "source": [
    "y.head(2)"
   ]
  },
  {
   "cell_type": "code",
   "execution_count": 11,
   "metadata": {},
   "outputs": [
    {
     "data": {
      "text/plain": [
       "(31160, 22)"
      ]
     },
     "execution_count": 11,
     "metadata": {},
     "output_type": "execute_result"
    }
   ],
   "source": [
    "y.shape"
   ]
  },
  {
   "cell_type": "code",
   "execution_count": 13,
   "metadata": {},
   "outputs": [],
   "source": [
    "a=y.iloc[:,[2,3]]"
   ]
  },
  {
   "cell_type": "code",
   "execution_count": 14,
   "metadata": {},
   "outputs": [
    {
     "data": {
      "text/html": [
       "<div>\n",
       "<style scoped>\n",
       "    .dataframe tbody tr th:only-of-type {\n",
       "        vertical-align: middle;\n",
       "    }\n",
       "\n",
       "    .dataframe tbody tr th {\n",
       "        vertical-align: top;\n",
       "    }\n",
       "\n",
       "    .dataframe thead th {\n",
       "        text-align: right;\n",
       "    }\n",
       "</style>\n",
       "<table border=\"1\" class=\"dataframe\">\n",
       "  <thead>\n",
       "    <tr style=\"text-align: right;\">\n",
       "      <th></th>\n",
       "      <th>ACCOUNT_NO</th>\n",
       "      <th>SUBSCR_NO</th>\n",
       "    </tr>\n",
       "  </thead>\n",
       "  <tbody>\n",
       "    <tr>\n",
       "      <th>0</th>\n",
       "      <td>206190410</td>\n",
       "      <td>14218954</td>\n",
       "    </tr>\n",
       "    <tr>\n",
       "      <th>1</th>\n",
       "      <td>206197211</td>\n",
       "      <td>14232708</td>\n",
       "    </tr>\n",
       "  </tbody>\n",
       "</table>\n",
       "</div>"
      ],
      "text/plain": [
       "   ACCOUNT_NO  SUBSCR_NO\n",
       "0   206190410   14218954\n",
       "1   206197211   14232708"
      ]
     },
     "execution_count": 14,
     "metadata": {},
     "output_type": "execute_result"
    }
   ],
   "source": [
    "a.head(2)"
   ]
  },
  {
   "cell_type": "code",
   "execution_count": 16,
   "metadata": {},
   "outputs": [],
   "source": [
    "b=y.iloc[:,4]"
   ]
  },
  {
   "cell_type": "code",
   "execution_count": 17,
   "metadata": {},
   "outputs": [
    {
     "data": {
      "text/plain": [
       "0    9243148228\n",
       "1    9243264060\n",
       "Name: DEL_NO, dtype: int64"
      ]
     },
     "execution_count": 17,
     "metadata": {},
     "output_type": "execute_result"
    }
   ],
   "source": [
    "b.head(2)"
   ]
  },
  {
   "cell_type": "code",
   "execution_count": 18,
   "metadata": {},
   "outputs": [],
   "source": [
    "from sklearn.model_selection import train_test_split"
   ]
  },
  {
   "cell_type": "code",
   "execution_count": 19,
   "metadata": {},
   "outputs": [],
   "source": [
    "a_train,a_test,b_train,b_test=train_test_split(a,b,test_size=0.2,random_state=0)"
   ]
  },
  {
   "cell_type": "code",
   "execution_count": 20,
   "metadata": {},
   "outputs": [
    {
     "data": {
      "text/plain": [
       "24928"
      ]
     },
     "execution_count": 20,
     "metadata": {},
     "output_type": "execute_result"
    }
   ],
   "source": [
    "len(a_train)"
   ]
  },
  {
   "cell_type": "code",
   "execution_count": 22,
   "metadata": {},
   "outputs": [
    {
     "data": {
      "text/plain": [
       "6232"
      ]
     },
     "execution_count": 22,
     "metadata": {},
     "output_type": "execute_result"
    }
   ],
   "source": [
    "len(a_test)"
   ]
  },
  {
   "cell_type": "code",
   "execution_count": 24,
   "metadata": {},
   "outputs": [],
   "source": [
    "# feature scaling\n",
    "\n",
    "from sklearn.preprocessing import StandardScaler"
   ]
  },
  {
   "cell_type": "code",
   "execution_count": 27,
   "metadata": {},
   "outputs": [],
   "source": [
    "ss=StandardScaler()\n",
    "a_train=ss.fit_transform(a_train)\n",
    "a_test=ss.fit_transform(a_test)\n"
   ]
  },
  {
   "cell_type": "code",
   "execution_count": 28,
   "metadata": {},
   "outputs": [
    {
     "data": {
      "text/plain": [
       "array([[ 0.51226453,  0.82441268],\n",
       "       [ 0.52373672,  1.2800248 ],\n",
       "       [ 0.51201078,  0.75472668],\n",
       "       ...,\n",
       "       [ 0.51239032,  0.85858775],\n",
       "       [ 0.50011595, -0.48759245],\n",
       "       [-1.96728961, -1.86636732]])"
      ]
     },
     "execution_count": 28,
     "metadata": {},
     "output_type": "execute_result"
    }
   ],
   "source": [
    "a_train"
   ]
  },
  {
   "cell_type": "code",
   "execution_count": 29,
   "metadata": {},
   "outputs": [
    {
     "data": {
      "text/plain": [
       "array([[-2.03251831, -0.6383935 ],\n",
       "       [ 0.49505652,  0.79291716],\n",
       "       [ 0.49228182,  0.37848748],\n",
       "       ...,\n",
       "       [ 0.49501052,  0.78292695],\n",
       "       [-2.03252084, -0.64076257],\n",
       "       [ 0.47491738, -0.90716169]])"
      ]
     },
     "execution_count": 29,
     "metadata": {},
     "output_type": "execute_result"
    }
   ],
   "source": [
    "a_test"
   ]
  },
  {
   "cell_type": "code",
   "execution_count": 30,
   "metadata": {},
   "outputs": [
    {
     "data": {
      "text/plain": [
       "24928"
      ]
     },
     "execution_count": 30,
     "metadata": {},
     "output_type": "execute_result"
    }
   ],
   "source": [
    "len(a_train)"
   ]
  },
  {
   "cell_type": "code",
   "execution_count": 31,
   "metadata": {},
   "outputs": [
    {
     "data": {
      "text/plain": [
       "6232"
      ]
     },
     "execution_count": 31,
     "metadata": {},
     "output_type": "execute_result"
    }
   ],
   "source": [
    "len(a_test)"
   ]
  },
  {
   "cell_type": "code",
   "execution_count": 32,
   "metadata": {},
   "outputs": [],
   "source": [
    "from sklearn.tree import DecisionTreeClassifier"
   ]
  },
  {
   "cell_type": "code",
   "execution_count": 33,
   "metadata": {},
   "outputs": [
    {
     "data": {
      "text/plain": [
       "{'ccp_alpha': 0.0,\n",
       " 'class_weight': None,\n",
       " 'criterion': 'gini',\n",
       " 'max_depth': None,\n",
       " 'max_features': None,\n",
       " 'max_leaf_nodes': None,\n",
       " 'min_impurity_decrease': 0.0,\n",
       " 'min_impurity_split': None,\n",
       " 'min_samples_leaf': 1,\n",
       " 'min_samples_split': 2,\n",
       " 'min_weight_fraction_leaf': 0.0,\n",
       " 'presort': 'deprecated',\n",
       " 'random_state': None,\n",
       " 'splitter': 'best'}"
      ]
     },
     "execution_count": 33,
     "metadata": {},
     "output_type": "execute_result"
    }
   ],
   "source": [
    "classifier=DecisionTreeClassifier()\n",
    "classifier.fit(a_train,b_train)\n",
    "classifier.get_params()"
   ]
  },
  {
   "cell_type": "code",
   "execution_count": null,
   "metadata": {},
   "outputs": [],
   "source": []
  }
 ],
 "metadata": {
  "kernelspec": {
   "display_name": "Python 3",
   "language": "python",
   "name": "python3"
  },
  "language_info": {
   "codemirror_mode": {
    "name": "ipython",
    "version": 3
   },
   "file_extension": ".py",
   "mimetype": "text/x-python",
   "name": "python",
   "nbconvert_exporter": "python",
   "pygments_lexer": "ipython3",
   "version": "3.8.3"
  }
 },
 "nbformat": 4,
 "nbformat_minor": 4
}
