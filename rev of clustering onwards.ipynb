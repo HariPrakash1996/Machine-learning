{
 "cells": [
  {
   "cell_type": "code",
   "execution_count": 1,
   "metadata": {},
   "outputs": [],
   "source": [
    "import numpy as np\n",
    "import pandas as pd\n",
    "import os\n",
    "import math\n",
    "import glob\n",
    "import matplotlib.pyplot as plt\n",
    "import seaborn as sbn"
   ]
  },
  {
   "cell_type": "code",
   "execution_count": 8,
   "metadata": {},
   "outputs": [],
   "source": [
    "x=np.array([1,2,3,4,5])"
   ]
  },
  {
   "cell_type": "code",
   "execution_count": 9,
   "metadata": {},
   "outputs": [
    {
     "data": {
      "text/plain": [
       "array([1, 2, 3, 4, 5])"
      ]
     },
     "execution_count": 9,
     "metadata": {},
     "output_type": "execute_result"
    }
   ],
   "source": [
    "x"
   ]
  },
  {
   "cell_type": "code",
   "execution_count": 10,
   "metadata": {},
   "outputs": [
    {
     "data": {
      "text/plain": [
       "['.ipynb_checkpoints',\n",
       " '.pytest_cache',\n",
       " '01_10_2020 introduction to python.ipynb',\n",
       " '09_10_2020 functions mrng class.ipynb',\n",
       " '12_10_2020 func mrng class.ipynb',\n",
       " '12_10_2020 practice session.ipynb',\n",
       " '13_10-2020 patterns practice.ipynb',\n",
       " '2015.html',\n",
       " '2016.html',\n",
       " '2017.html',\n",
       " '2_10_2020 morning class strings.ipynb',\n",
       " '2_10_2020 strings practice.ipynb',\n",
       " '3_10_2020 exercises practice.ipynb',\n",
       " '4-11-2020 panda class.ipynb',\n",
       " '5_10_2020 data structures morning class.ipynb',\n",
       " '5_10_2020 ds practice.ipynb',\n",
       " '5_10_2020 pattern programs.ipynb',\n",
       " '6_10_2020 practice data structures.ipynb',\n",
       " '6_10_2020 python DS mrng class.ipynb',\n",
       " '7_10_2020 morning class python operators.ipynb',\n",
       " '8_10_2020 loops morning class.ipynb',\n",
       " 'b pattern symbol.ipynb',\n",
       " 'bank_market - Copy.html',\n",
       " 'bar and hist and pie mrng class 13-11-2020.ipynb',\n",
       " 'barh and pie chart prac 13-11-2020.ipynb',\n",
       " 'cluster 1st type partition prac 9th dec 2020.ipynb',\n",
       " 'clustering 2nd type hierarchical  clustering prac dec 10th.ipynb',\n",
       " 'clustering k means with telco bil data.ipynb',\n",
       " 'date and time 19-10-2020.ipynb',\n",
       " 'date and time practice session 19-10-2020.ipynb',\n",
       " 'decision tree dec 15th.ipynb',\n",
       " 'exception handling 17_10_2020.ipynb',\n",
       " 'fb_post_comments.html',\n",
       " 'Fiberbits_v1.html',\n",
       " 'File Handing oct 14.ipynb',\n",
       " 'functions practice 18-10-2020.ipynb',\n",
       " 'functions practice session.ipynb',\n",
       " 'hd income range qcut cut practice.ipynb',\n",
       " 'hi pandas practice session.ipynb',\n",
       " 'k means distance finding.ipynb',\n",
       " 'KNN ALGORITHM DEC14TH 2020.ipynb',\n",
       " 'loops practice.ipynb',\n",
       " 'matplotlib prac 10-11-2020.ipynb',\n",
       " 'mcq prac 14-11-2020 evng 6 to 8 pm.ipynb',\n",
       " 'mcq prac 140 to .....ipynb',\n",
       " 'numpy 20-10-2020.ipynb',\n",
       " 'numpy ass prac above 50que.ipynb',\n",
       " 'numpy ass practice.ipynb',\n",
       " 'numpy class 3 22-10-2020.ipynb',\n",
       " 'numpy commands liist.ipynb',\n",
       " 'Numpy practice session.ipynb',\n",
       " 'Numpy second class 21-10-2020.ipynb',\n",
       " 'p b p 20 que.ipynb',\n",
       " 'p lists ass prac.ipynb',\n",
       " 'p str prac.ipynb',\n",
       " 'pandas 23-10-2020.ipynb',\n",
       " 'pandas assignment yewyork data 3-11-2020.ipynb',\n",
       " 'pandas c-2 27-10-2020.ipynb',\n",
       " 'pandas c2 28_10_2020.ipynb',\n",
       " 'pandas c3 2-11-2020.ipynb',\n",
       " 'pandas loc and iloc sort  practice 5-11-2020.ipynb',\n",
       " 'pandas p.session.ipynb',\n",
       " 'pandas prac sesssion.ipynb',\n",
       " 'pandas practice sessiom 31-10-2020.ipynb',\n",
       " 'pandas range prac 3-11-2020.ipynb',\n",
       " 'patterns 15-10-2020.ipynb',\n",
       " 'practice session.ipynb',\n",
       " 'profile report and sweetviz practice 4-11-2020.ipynb',\n",
       " 'project test prac.ipynb',\n",
       " 'project_1 (TBD).ipynb',\n",
       " 'python',\n",
       " 'python assignment 1.ipynb',\n",
       " 'python assignment first one.ipynb',\n",
       " 'python b prog assignent.ipynb',\n",
       " 'python basic programs assignment.ipynb',\n",
       " 'python interview prac prog dec 1st.ipynb',\n",
       " 'python interview_1.ipynb',\n",
       " 'python ksr int_questions .ipynb',\n",
       " 'python ksr p int que practice.ipynb',\n",
       " 'python lists assignment.ipynb',\n",
       " 'python numpy assignment.ipynb',\n",
       " 'python sets assignment.ipynb',\n",
       " 'python string assignment.ipynb',\n",
       " 'random_sampling class_2.ipynb',\n",
       " 'rev of clustering onwards.ipynb',\n",
       " 'revision of python.ipynb',\n",
       " 'sampling process class_1.ipynb',\n",
       " 'scipy prac session_1.ipynb',\n",
       " 'sql assignment_1.ipynb',\n",
       " 'sweetviz prac 4-11-2020.ipynb',\n",
       " 'SWEETVIZ_REPORT.html',\n",
       " 'SWEETVIZ_REPORT.TBD.html',\n",
       " 'SWEETVIZ_REPORT_2015.html',\n",
       " 'SWEETVIZ_REPORT_autodataset.html',\n",
       " 'SWEETVIZ_REPORT_fbpost_comments.html',\n",
       " 'SWEETVIZ_REPORT_unbill.html',\n",
       " 'Telco_Bill_data_v1.html',\n",
       " 'world bank pandas .ipynb',\n",
       " 'xception handling 16-10-2020.ipynb']"
      ]
     },
     "execution_count": 10,
     "metadata": {},
     "output_type": "execute_result"
    }
   ],
   "source": [
    "os.listdir()"
   ]
  },
  {
   "cell_type": "code",
   "execution_count": 12,
   "metadata": {},
   "outputs": [
    {
     "data": {
      "text/plain": [
       "['ALLOW_THREADS',\n",
       " 'AxisError',\n",
       " 'BUFSIZE',\n",
       " 'CLIP',\n",
       " 'ComplexWarning',\n",
       " 'DataSource',\n",
       " 'ERR_CALL',\n",
       " 'ERR_DEFAULT',\n",
       " 'ERR_IGNORE',\n",
       " 'ERR_LOG',\n",
       " 'ERR_PRINT',\n",
       " 'ERR_RAISE',\n",
       " 'ERR_WARN',\n",
       " 'FLOATING_POINT_SUPPORT',\n",
       " 'FPE_DIVIDEBYZERO',\n",
       " 'FPE_INVALID',\n",
       " 'FPE_OVERFLOW',\n",
       " 'FPE_UNDERFLOW',\n",
       " 'False_',\n",
       " 'Inf',\n",
       " 'Infinity',\n",
       " 'MAXDIMS',\n",
       " 'MAY_SHARE_BOUNDS',\n",
       " 'MAY_SHARE_EXACT',\n",
       " 'MachAr',\n",
       " 'ModuleDeprecationWarning',\n",
       " 'NAN',\n",
       " 'NINF',\n",
       " 'NZERO',\n",
       " 'NaN',\n",
       " 'PINF',\n",
       " 'PZERO',\n",
       " 'RAISE',\n",
       " 'RankWarning',\n",
       " 'SHIFT_DIVIDEBYZERO',\n",
       " 'SHIFT_INVALID',\n",
       " 'SHIFT_OVERFLOW',\n",
       " 'SHIFT_UNDERFLOW',\n",
       " 'ScalarType',\n",
       " 'Tester',\n",
       " 'TooHardError',\n",
       " 'True_',\n",
       " 'UFUNC_BUFSIZE_DEFAULT',\n",
       " 'UFUNC_PYVALS_NAME',\n",
       " 'VisibleDeprecationWarning',\n",
       " 'WRAP',\n",
       " '_NoValue',\n",
       " '_UFUNC_API',\n",
       " '__NUMPY_SETUP__',\n",
       " '__all__',\n",
       " '__builtins__',\n",
       " '__cached__',\n",
       " '__config__',\n",
       " '__dir__',\n",
       " '__doc__',\n",
       " '__file__',\n",
       " '__getattr__',\n",
       " '__git_revision__',\n",
       " '__loader__',\n",
       " '__mkl_version__',\n",
       " '__name__',\n",
       " '__package__',\n",
       " '__path__',\n",
       " '__spec__',\n",
       " '__version__',\n",
       " '_add_newdoc_ufunc',\n",
       " '_distributor_init',\n",
       " '_globals',\n",
       " '_mat',\n",
       " '_pytesttester',\n",
       " 'abs',\n",
       " 'absolute',\n",
       " 'absolute_import',\n",
       " 'add',\n",
       " 'add_docstring',\n",
       " 'add_newdoc',\n",
       " 'add_newdoc_ufunc',\n",
       " 'alen',\n",
       " 'all',\n",
       " 'allclose',\n",
       " 'alltrue',\n",
       " 'amax',\n",
       " 'amin',\n",
       " 'angle',\n",
       " 'any',\n",
       " 'append',\n",
       " 'apply_along_axis',\n",
       " 'apply_over_axes',\n",
       " 'arange',\n",
       " 'arccos',\n",
       " 'arccosh',\n",
       " 'arcsin',\n",
       " 'arcsinh',\n",
       " 'arctan',\n",
       " 'arctan2',\n",
       " 'arctanh',\n",
       " 'argmax',\n",
       " 'argmin',\n",
       " 'argpartition',\n",
       " 'argsort',\n",
       " 'argwhere',\n",
       " 'around',\n",
       " 'array',\n",
       " 'array2string',\n",
       " 'array_equal',\n",
       " 'array_equiv',\n",
       " 'array_repr',\n",
       " 'array_split',\n",
       " 'array_str',\n",
       " 'asanyarray',\n",
       " 'asarray',\n",
       " 'asarray_chkfinite',\n",
       " 'ascontiguousarray',\n",
       " 'asfarray',\n",
       " 'asfortranarray',\n",
       " 'asmatrix',\n",
       " 'asscalar',\n",
       " 'atleast_1d',\n",
       " 'atleast_2d',\n",
       " 'atleast_3d',\n",
       " 'average',\n",
       " 'bartlett',\n",
       " 'base_repr',\n",
       " 'binary_repr',\n",
       " 'bincount',\n",
       " 'bitwise_and',\n",
       " 'bitwise_not',\n",
       " 'bitwise_or',\n",
       " 'bitwise_xor',\n",
       " 'blackman',\n",
       " 'block',\n",
       " 'bmat',\n",
       " 'bool',\n",
       " 'bool8',\n",
       " 'bool_',\n",
       " 'broadcast',\n",
       " 'broadcast_arrays',\n",
       " 'broadcast_to',\n",
       " 'busday_count',\n",
       " 'busday_offset',\n",
       " 'busdaycalendar',\n",
       " 'byte',\n",
       " 'byte_bounds',\n",
       " 'bytes0',\n",
       " 'bytes_',\n",
       " 'c_',\n",
       " 'can_cast',\n",
       " 'cast',\n",
       " 'cbrt',\n",
       " 'cdouble',\n",
       " 'ceil',\n",
       " 'cfloat',\n",
       " 'char',\n",
       " 'character',\n",
       " 'chararray',\n",
       " 'choose',\n",
       " 'clip',\n",
       " 'clongdouble',\n",
       " 'clongfloat',\n",
       " 'column_stack',\n",
       " 'common_type',\n",
       " 'compare_chararrays',\n",
       " 'compat',\n",
       " 'complex',\n",
       " 'complex128',\n",
       " 'complex64',\n",
       " 'complex_',\n",
       " 'complexfloating',\n",
       " 'compress',\n",
       " 'concatenate',\n",
       " 'conj',\n",
       " 'conjugate',\n",
       " 'convolve',\n",
       " 'copy',\n",
       " 'copysign',\n",
       " 'copyto',\n",
       " 'core',\n",
       " 'corrcoef',\n",
       " 'correlate',\n",
       " 'cos',\n",
       " 'cosh',\n",
       " 'count_nonzero',\n",
       " 'cov',\n",
       " 'cross',\n",
       " 'csingle',\n",
       " 'ctypeslib',\n",
       " 'cumprod',\n",
       " 'cumproduct',\n",
       " 'cumsum',\n",
       " 'datetime64',\n",
       " 'datetime_as_string',\n",
       " 'datetime_data',\n",
       " 'deg2rad',\n",
       " 'degrees',\n",
       " 'delete',\n",
       " 'deprecate',\n",
       " 'deprecate_with_doc',\n",
       " 'diag',\n",
       " 'diag_indices',\n",
       " 'diag_indices_from',\n",
       " 'diagflat',\n",
       " 'diagonal',\n",
       " 'diff',\n",
       " 'digitize',\n",
       " 'disp',\n",
       " 'divide',\n",
       " 'division',\n",
       " 'divmod',\n",
       " 'dot',\n",
       " 'double',\n",
       " 'dsplit',\n",
       " 'dstack',\n",
       " 'dtype',\n",
       " 'e',\n",
       " 'ediff1d',\n",
       " 'einsum',\n",
       " 'einsum_path',\n",
       " 'emath',\n",
       " 'empty',\n",
       " 'empty_like',\n",
       " 'equal',\n",
       " 'errstate',\n",
       " 'euler_gamma',\n",
       " 'exp',\n",
       " 'exp2',\n",
       " 'expand_dims',\n",
       " 'expm1',\n",
       " 'extract',\n",
       " 'eye',\n",
       " 'fabs',\n",
       " 'fastCopyAndTranspose',\n",
       " 'fft',\n",
       " 'fill_diagonal',\n",
       " 'find_common_type',\n",
       " 'finfo',\n",
       " 'fix',\n",
       " 'flatiter',\n",
       " 'flatnonzero',\n",
       " 'flexible',\n",
       " 'flip',\n",
       " 'fliplr',\n",
       " 'flipud',\n",
       " 'float',\n",
       " 'float16',\n",
       " 'float32',\n",
       " 'float64',\n",
       " 'float_',\n",
       " 'float_power',\n",
       " 'floating',\n",
       " 'floor',\n",
       " 'floor_divide',\n",
       " 'fmax',\n",
       " 'fmin',\n",
       " 'fmod',\n",
       " 'format_float_positional',\n",
       " 'format_float_scientific',\n",
       " 'format_parser',\n",
       " 'frexp',\n",
       " 'frombuffer',\n",
       " 'fromfile',\n",
       " 'fromfunction',\n",
       " 'fromiter',\n",
       " 'frompyfunc',\n",
       " 'fromregex',\n",
       " 'fromstring',\n",
       " 'full',\n",
       " 'full_like',\n",
       " 'fv',\n",
       " 'gcd',\n",
       " 'generic',\n",
       " 'genfromtxt',\n",
       " 'geomspace',\n",
       " 'get_array_wrap',\n",
       " 'get_include',\n",
       " 'get_printoptions',\n",
       " 'getbufsize',\n",
       " 'geterr',\n",
       " 'geterrcall',\n",
       " 'geterrobj',\n",
       " 'gradient',\n",
       " 'greater',\n",
       " 'greater_equal',\n",
       " 'half',\n",
       " 'hamming',\n",
       " 'hanning',\n",
       " 'heaviside',\n",
       " 'histogram',\n",
       " 'histogram2d',\n",
       " 'histogram_bin_edges',\n",
       " 'histogramdd',\n",
       " 'hsplit',\n",
       " 'hstack',\n",
       " 'hypot',\n",
       " 'i0',\n",
       " 'identity',\n",
       " 'iinfo',\n",
       " 'imag',\n",
       " 'in1d',\n",
       " 'index_exp',\n",
       " 'indices',\n",
       " 'inexact',\n",
       " 'inf',\n",
       " 'info',\n",
       " 'infty',\n",
       " 'inner',\n",
       " 'insert',\n",
       " 'int',\n",
       " 'int0',\n",
       " 'int16',\n",
       " 'int32',\n",
       " 'int64',\n",
       " 'int8',\n",
       " 'int_',\n",
       " 'int_asbuffer',\n",
       " 'intc',\n",
       " 'integer',\n",
       " 'interp',\n",
       " 'intersect1d',\n",
       " 'intp',\n",
       " 'invert',\n",
       " 'ipmt',\n",
       " 'irr',\n",
       " 'is_busday',\n",
       " 'isclose',\n",
       " 'iscomplex',\n",
       " 'iscomplexobj',\n",
       " 'isfinite',\n",
       " 'isfortran',\n",
       " 'isin',\n",
       " 'isinf',\n",
       " 'isnan',\n",
       " 'isnat',\n",
       " 'isneginf',\n",
       " 'isposinf',\n",
       " 'isreal',\n",
       " 'isrealobj',\n",
       " 'isscalar',\n",
       " 'issctype',\n",
       " 'issubclass_',\n",
       " 'issubdtype',\n",
       " 'issubsctype',\n",
       " 'iterable',\n",
       " 'ix_',\n",
       " 'kaiser',\n",
       " 'kron',\n",
       " 'lcm',\n",
       " 'ldexp',\n",
       " 'left_shift',\n",
       " 'less',\n",
       " 'less_equal',\n",
       " 'lexsort',\n",
       " 'lib',\n",
       " 'linalg',\n",
       " 'linspace',\n",
       " 'little_endian',\n",
       " 'load',\n",
       " 'loads',\n",
       " 'loadtxt',\n",
       " 'log',\n",
       " 'log10',\n",
       " 'log1p',\n",
       " 'log2',\n",
       " 'logaddexp',\n",
       " 'logaddexp2',\n",
       " 'logical_and',\n",
       " 'logical_not',\n",
       " 'logical_or',\n",
       " 'logical_xor',\n",
       " 'logspace',\n",
       " 'long',\n",
       " 'longcomplex',\n",
       " 'longdouble',\n",
       " 'longfloat',\n",
       " 'longlong',\n",
       " 'lookfor',\n",
       " 'ma',\n",
       " 'mafromtxt',\n",
       " 'mask_indices',\n",
       " 'mat',\n",
       " 'math',\n",
       " 'matmul',\n",
       " 'matrix',\n",
       " 'matrixlib',\n",
       " 'max',\n",
       " 'maximum',\n",
       " 'maximum_sctype',\n",
       " 'may_share_memory',\n",
       " 'mean',\n",
       " 'median',\n",
       " 'memmap',\n",
       " 'meshgrid',\n",
       " 'mgrid',\n",
       " 'min',\n",
       " 'min_scalar_type',\n",
       " 'minimum',\n",
       " 'mintypecode',\n",
       " 'mirr',\n",
       " 'mkl',\n",
       " 'mod',\n",
       " 'modf',\n",
       " 'moveaxis',\n",
       " 'msort',\n",
       " 'multiply',\n",
       " 'nan',\n",
       " 'nan_to_num',\n",
       " 'nanargmax',\n",
       " 'nanargmin',\n",
       " 'nancumprod',\n",
       " 'nancumsum',\n",
       " 'nanmax',\n",
       " 'nanmean',\n",
       " 'nanmedian',\n",
       " 'nanmin',\n",
       " 'nanpercentile',\n",
       " 'nanprod',\n",
       " 'nanquantile',\n",
       " 'nanstd',\n",
       " 'nansum',\n",
       " 'nanvar',\n",
       " 'nbytes',\n",
       " 'ndarray',\n",
       " 'ndenumerate',\n",
       " 'ndfromtxt',\n",
       " 'ndim',\n",
       " 'ndindex',\n",
       " 'nditer',\n",
       " 'negative',\n",
       " 'nested_iters',\n",
       " 'newaxis',\n",
       " 'nextafter',\n",
       " 'nonzero',\n",
       " 'not_equal',\n",
       " 'nper',\n",
       " 'npv',\n",
       " 'numarray',\n",
       " 'number',\n",
       " 'obj2sctype',\n",
       " 'object',\n",
       " 'object0',\n",
       " 'object_',\n",
       " 'ogrid',\n",
       " 'oldnumeric',\n",
       " 'ones',\n",
       " 'ones_like',\n",
       " 'outer',\n",
       " 'packbits',\n",
       " 'pad',\n",
       " 'partition',\n",
       " 'percentile',\n",
       " 'pi',\n",
       " 'piecewise',\n",
       " 'place',\n",
       " 'pmt',\n",
       " 'poly',\n",
       " 'poly1d',\n",
       " 'polyadd',\n",
       " 'polyder',\n",
       " 'polydiv',\n",
       " 'polyfit',\n",
       " 'polyint',\n",
       " 'polymul',\n",
       " 'polynomial',\n",
       " 'polysub',\n",
       " 'polyval',\n",
       " 'positive',\n",
       " 'power',\n",
       " 'ppmt',\n",
       " 'print_function',\n",
       " 'printoptions',\n",
       " 'prod',\n",
       " 'product',\n",
       " 'promote_types',\n",
       " 'ptp',\n",
       " 'put',\n",
       " 'put_along_axis',\n",
       " 'putmask',\n",
       " 'pv',\n",
       " 'quantile',\n",
       " 'r_',\n",
       " 'rad2deg',\n",
       " 'radians',\n",
       " 'random',\n",
       " 'rate',\n",
       " 'ravel',\n",
       " 'ravel_multi_index',\n",
       " 'real',\n",
       " 'real_if_close',\n",
       " 'rec',\n",
       " 'recarray',\n",
       " 'recfromcsv',\n",
       " 'recfromtxt',\n",
       " 'reciprocal',\n",
       " 'record',\n",
       " 'remainder',\n",
       " 'repeat',\n",
       " 'require',\n",
       " 'reshape',\n",
       " 'resize',\n",
       " 'result_type',\n",
       " 'right_shift',\n",
       " 'rint',\n",
       " 'roll',\n",
       " 'rollaxis',\n",
       " 'roots',\n",
       " 'rot90',\n",
       " 'round',\n",
       " 'round_',\n",
       " 'row_stack',\n",
       " 's_',\n",
       " 'safe_eval',\n",
       " 'save',\n",
       " 'savetxt',\n",
       " 'savez',\n",
       " 'savez_compressed',\n",
       " 'sctype2char',\n",
       " 'sctypeDict',\n",
       " 'sctypeNA',\n",
       " 'sctypes',\n",
       " 'searchsorted',\n",
       " 'select',\n",
       " 'set_numeric_ops',\n",
       " 'set_printoptions',\n",
       " 'set_string_function',\n",
       " 'setbufsize',\n",
       " 'setdiff1d',\n",
       " 'seterr',\n",
       " 'seterrcall',\n",
       " 'seterrobj',\n",
       " 'setxor1d',\n",
       " 'shape',\n",
       " 'shares_memory',\n",
       " 'short',\n",
       " 'show_config',\n",
       " 'sign',\n",
       " 'signbit',\n",
       " 'signedinteger',\n",
       " 'sin',\n",
       " 'sinc',\n",
       " 'single',\n",
       " 'singlecomplex',\n",
       " 'sinh',\n",
       " 'size',\n",
       " 'sometrue',\n",
       " 'sort',\n",
       " 'sort_complex',\n",
       " 'source',\n",
       " 'spacing',\n",
       " 'split',\n",
       " 'sqrt',\n",
       " 'square',\n",
       " 'squeeze',\n",
       " 'stack',\n",
       " 'std',\n",
       " 'str',\n",
       " 'str0',\n",
       " 'str_',\n",
       " 'string_',\n",
       " 'subtract',\n",
       " 'sum',\n",
       " 'swapaxes',\n",
       " 'sys',\n",
       " 'take',\n",
       " 'take_along_axis',\n",
       " 'tan',\n",
       " 'tanh',\n",
       " 'tensordot',\n",
       " 'test',\n",
       " 'testing',\n",
       " 'testing',\n",
       " 'tile',\n",
       " 'timedelta64',\n",
       " 'trace',\n",
       " 'tracemalloc_domain',\n",
       " 'transpose',\n",
       " 'trapz',\n",
       " 'tri',\n",
       " 'tril',\n",
       " 'tril_indices',\n",
       " 'tril_indices_from',\n",
       " 'trim_zeros',\n",
       " 'triu',\n",
       " 'triu_indices',\n",
       " 'triu_indices_from',\n",
       " 'true_divide',\n",
       " 'trunc',\n",
       " 'typeDict',\n",
       " 'typeNA',\n",
       " 'typecodes',\n",
       " 'typename',\n",
       " 'ubyte',\n",
       " 'ufunc',\n",
       " 'uint',\n",
       " 'uint0',\n",
       " 'uint16',\n",
       " 'uint32',\n",
       " 'uint64',\n",
       " 'uint8',\n",
       " 'uintc',\n",
       " 'uintp',\n",
       " 'ulonglong',\n",
       " 'unicode',\n",
       " 'unicode_',\n",
       " 'union1d',\n",
       " 'unique',\n",
       " 'unpackbits',\n",
       " 'unravel_index',\n",
       " 'unsignedinteger',\n",
       " 'unwrap',\n",
       " 'ushort',\n",
       " 'vander',\n",
       " 'var',\n",
       " 'vdot',\n",
       " 'vectorize',\n",
       " 'version',\n",
       " 'void',\n",
       " 'void0',\n",
       " 'vsplit',\n",
       " 'vstack',\n",
       " 'warnings',\n",
       " 'where',\n",
       " 'who',\n",
       " 'zeros',\n",
       " 'zeros_like']"
      ]
     },
     "execution_count": 12,
     "metadata": {},
     "output_type": "execute_result"
    }
   ],
   "source": [
    "dir(np)"
   ]
  },
  {
   "cell_type": "code",
   "execution_count": 13,
   "metadata": {},
   "outputs": [
    {
     "data": {
      "text/plain": [
       "['Annotation',\n",
       " 'Arrow',\n",
       " 'Artist',\n",
       " 'AutoLocator',\n",
       " 'Axes',\n",
       " 'Button',\n",
       " 'Circle',\n",
       " 'Figure',\n",
       " 'FigureCanvasBase',\n",
       " 'FixedFormatter',\n",
       " 'FixedLocator',\n",
       " 'FormatStrFormatter',\n",
       " 'Formatter',\n",
       " 'FuncFormatter',\n",
       " 'GridSpec',\n",
       " 'IndexLocator',\n",
       " 'Line2D',\n",
       " 'LinearLocator',\n",
       " 'Locator',\n",
       " 'LogFormatter',\n",
       " 'LogFormatterExponent',\n",
       " 'LogFormatterMathtext',\n",
       " 'LogLocator',\n",
       " 'MaxNLocator',\n",
       " 'MultipleLocator',\n",
       " 'Normalize',\n",
       " 'NullFormatter',\n",
       " 'NullLocator',\n",
       " 'Number',\n",
       " 'PolarAxes',\n",
       " 'Polygon',\n",
       " 'Rectangle',\n",
       " 'ScalarFormatter',\n",
       " 'Slider',\n",
       " 'Subplot',\n",
       " 'SubplotTool',\n",
       " 'Text',\n",
       " 'TickHelper',\n",
       " 'Widget',\n",
       " '_INSTALL_FIG_OBSERVER',\n",
       " '_IP_REGISTERED',\n",
       " '__builtins__',\n",
       " '__cached__',\n",
       " '__doc__',\n",
       " '__file__',\n",
       " '__loader__',\n",
       " '__name__',\n",
       " '__package__',\n",
       " '__spec__',\n",
       " '_auto_draw_if_interactive',\n",
       " '_backend_mod',\n",
       " '_get_running_interactive_framework',\n",
       " '_interactive_bk',\n",
       " '_log',\n",
       " '_pylab_helpers',\n",
       " '_setp',\n",
       " '_setup_pyplot_info_docstrings',\n",
       " '_show',\n",
       " 'acorr',\n",
       " 'angle_spectrum',\n",
       " 'annotate',\n",
       " 'arrow',\n",
       " 'autoscale',\n",
       " 'autumn',\n",
       " 'axes',\n",
       " 'axhline',\n",
       " 'axhspan',\n",
       " 'axis',\n",
       " 'axvline',\n",
       " 'axvspan',\n",
       " 'bar',\n",
       " 'barbs',\n",
       " 'barh',\n",
       " 'bone',\n",
       " 'box',\n",
       " 'boxplot',\n",
       " 'broken_barh',\n",
       " 'cbook',\n",
       " 'cla',\n",
       " 'clabel',\n",
       " 'clf',\n",
       " 'clim',\n",
       " 'close',\n",
       " 'cm',\n",
       " 'cohere',\n",
       " 'colorbar',\n",
       " 'colormaps',\n",
       " 'connect',\n",
       " 'contour',\n",
       " 'contourf',\n",
       " 'cool',\n",
       " 'copper',\n",
       " 'csd',\n",
       " 'cycler',\n",
       " 'dedent',\n",
       " 'delaxes',\n",
       " 'deprecated',\n",
       " 'disconnect',\n",
       " 'docstring',\n",
       " 'draw',\n",
       " 'draw_all',\n",
       " 'draw_if_interactive',\n",
       " 'errorbar',\n",
       " 'eventplot',\n",
       " 'figaspect',\n",
       " 'figimage',\n",
       " 'figlegend',\n",
       " 'fignum_exists',\n",
       " 'figtext',\n",
       " 'figure',\n",
       " 'fill',\n",
       " 'fill_between',\n",
       " 'fill_betweenx',\n",
       " 'findobj',\n",
       " 'flag',\n",
       " 'functools',\n",
       " 'gca',\n",
       " 'gcf',\n",
       " 'gci',\n",
       " 'get',\n",
       " 'get_backend',\n",
       " 'get_cmap',\n",
       " 'get_current_fig_manager',\n",
       " 'get_figlabels',\n",
       " 'get_fignums',\n",
       " 'get_plot_commands',\n",
       " 'get_scale_docs',\n",
       " 'get_scale_names',\n",
       " 'getp',\n",
       " 'ginput',\n",
       " 'gray',\n",
       " 'grid',\n",
       " 'hexbin',\n",
       " 'hist',\n",
       " 'hist2d',\n",
       " 'hlines',\n",
       " 'hot',\n",
       " 'hsv',\n",
       " 'importlib',\n",
       " 'imread',\n",
       " 'imsave',\n",
       " 'imshow',\n",
       " 'inferno',\n",
       " 'inspect',\n",
       " 'install_repl_displayhook',\n",
       " 'interactive',\n",
       " 'ioff',\n",
       " 'ion',\n",
       " 'isinteractive',\n",
       " 'jet',\n",
       " 'legend',\n",
       " 'locator_params',\n",
       " 'logging',\n",
       " 'loglog',\n",
       " 'magma',\n",
       " 'magnitude_spectrum',\n",
       " 'margins',\n",
       " 'matplotlib',\n",
       " 'matshow',\n",
       " 'minorticks_off',\n",
       " 'minorticks_on',\n",
       " 'mlab',\n",
       " 'new_figure_manager',\n",
       " 'nipy_spectral',\n",
       " 'np',\n",
       " 'pause',\n",
       " 'pcolor',\n",
       " 'pcolormesh',\n",
       " 'phase_spectrum',\n",
       " 'pie',\n",
       " 'pink',\n",
       " 'plasma',\n",
       " 'plot',\n",
       " 'plot_date',\n",
       " 'plotfile',\n",
       " 'plotting',\n",
       " 'polar',\n",
       " 'prism',\n",
       " 'psd',\n",
       " 'quiver',\n",
       " 'quiverkey',\n",
       " 'rc',\n",
       " 'rcParams',\n",
       " 'rcParamsDefault',\n",
       " 'rcParamsOrig',\n",
       " 'rc_context',\n",
       " 'rcdefaults',\n",
       " 'rcsetup',\n",
       " 're',\n",
       " 'register_cmap',\n",
       " 'rgrids',\n",
       " 'savefig',\n",
       " 'sca',\n",
       " 'scatter',\n",
       " 'sci',\n",
       " 'semilogx',\n",
       " 'semilogy',\n",
       " 'set_cmap',\n",
       " 'set_loglevel',\n",
       " 'setp',\n",
       " 'show',\n",
       " 'silent_list',\n",
       " 'specgram',\n",
       " 'spring',\n",
       " 'spy',\n",
       " 'stackplot',\n",
       " 'stem',\n",
       " 'step',\n",
       " 'streamplot',\n",
       " 'style',\n",
       " 'subplot',\n",
       " 'subplot2grid',\n",
       " 'subplot_tool',\n",
       " 'subplots',\n",
       " 'subplots_adjust',\n",
       " 'summer',\n",
       " 'suptitle',\n",
       " 'switch_backend',\n",
       " 'sys',\n",
       " 'table',\n",
       " 'text',\n",
       " 'thetagrids',\n",
       " 'tick_params',\n",
       " 'ticklabel_format',\n",
       " 'tight_layout',\n",
       " 'time',\n",
       " 'title',\n",
       " 'tricontour',\n",
       " 'tricontourf',\n",
       " 'tripcolor',\n",
       " 'triplot',\n",
       " 'twinx',\n",
       " 'twiny',\n",
       " 'uninstall_repl_displayhook',\n",
       " 'violinplot',\n",
       " 'viridis',\n",
       " 'vlines',\n",
       " 'waitforbuttonpress',\n",
       " 'warn_deprecated',\n",
       " 'winter',\n",
       " 'xcorr',\n",
       " 'xkcd',\n",
       " 'xlabel',\n",
       " 'xlim',\n",
       " 'xscale',\n",
       " 'xticks',\n",
       " 'ylabel',\n",
       " 'ylim',\n",
       " 'yscale',\n",
       " 'yticks']"
      ]
     },
     "execution_count": 13,
     "metadata": {},
     "output_type": "execute_result"
    }
   ],
   "source": [
    "dir(plt)"
   ]
  },
  {
   "cell_type": "code",
   "execution_count": 14,
   "metadata": {},
   "outputs": [
    {
     "data": {
      "text/plain": [
       "['__all__',\n",
       " '__builtins__',\n",
       " '__cached__',\n",
       " '__doc__',\n",
       " '__file__',\n",
       " '__loader__',\n",
       " '__name__',\n",
       " '__package__',\n",
       " '__spec__',\n",
       " '_glob0',\n",
       " '_glob1',\n",
       " '_glob2',\n",
       " '_iglob',\n",
       " '_ishidden',\n",
       " '_isrecursive',\n",
       " '_iterdir',\n",
       " '_rlistdir',\n",
       " 'escape',\n",
       " 'fnmatch',\n",
       " 'glob',\n",
       " 'glob0',\n",
       " 'glob1',\n",
       " 'has_magic',\n",
       " 'iglob',\n",
       " 'magic_check',\n",
       " 'magic_check_bytes',\n",
       " 'os',\n",
       " 're',\n",
       " 'sys']"
      ]
     },
     "execution_count": 14,
     "metadata": {},
     "output_type": "execute_result"
    }
   ],
   "source": [
    "dir(glob)"
   ]
  },
  {
   "cell_type": "code",
   "execution_count": 25,
   "metadata": {},
   "outputs": [],
   "source": [
    "  from scipy.stats import binom           # binomial distriubution"
   ]
  },
  {
   "cell_type": "code",
   "execution_count": 26,
   "metadata": {},
   "outputs": [
    {
     "data": {
      "text/plain": [
       "0.1328755507199998"
      ]
     },
     "execution_count": 26,
     "metadata": {},
     "output_type": "execute_result"
    }
   ],
   "source": [
    "binom.pmf(4,12,0.2)"
   ]
  },
  {
   "cell_type": "code",
   "execution_count": 27,
   "metadata": {},
   "outputs": [
    {
     "data": {
      "text/plain": [
       "0.2684354560000003"
      ]
     },
     "execution_count": 27,
     "metadata": {},
     "output_type": "execute_result"
    }
   ],
   "source": [
    "binom.pmf(1,10,0.2)"
   ]
  },
  {
   "cell_type": "code",
   "execution_count": 28,
   "metadata": {},
   "outputs": [
    {
     "data": {
      "text/plain": [
       "array([0.06871948, 0.20615843, 0.28346784, 0.2362232 , 0.13287555])"
      ]
     },
     "execution_count": 28,
     "metadata": {},
     "output_type": "execute_result"
    }
   ],
   "source": [
    "binom.pmf([0,1,2,3,4],12,0.2)"
   ]
  },
  {
   "cell_type": "code",
   "execution_count": 29,
   "metadata": {},
   "outputs": [
    {
     "data": {
      "text/plain": [
       "0.9274445004799988"
      ]
     },
     "execution_count": 29,
     "metadata": {},
     "output_type": "execute_result"
    }
   ],
   "source": [
    "sum(binom.pmf([0,1,2,3,4],12,0.2))"
   ]
  },
  {
   "cell_type": "code",
   "execution_count": 30,
   "metadata": {},
   "outputs": [
    {
     "data": {
      "text/plain": [
       "0.274877906944"
      ]
     },
     "execution_count": 30,
     "metadata": {},
     "output_type": "execute_result"
    }
   ],
   "source": [
    "binom.cdf(1,12,0.2)"
   ]
  },
  {
   "cell_type": "code",
   "execution_count": 31,
   "metadata": {},
   "outputs": [],
   "source": [
    "from numpy import random"
   ]
  },
  {
   "cell_type": "code",
   "execution_count": 32,
   "metadata": {},
   "outputs": [],
   "source": [
    "x=random.binomial(n=10,p=0.5,size=10)"
   ]
  },
  {
   "cell_type": "code",
   "execution_count": 33,
   "metadata": {},
   "outputs": [
    {
     "name": "stdout",
     "output_type": "stream",
     "text": [
      "[5 3 6 8 7 6 8 5 4 7]\n"
     ]
    }
   ],
   "source": [
    "print(x)"
   ]
  },
  {
   "cell_type": "code",
   "execution_count": 36,
   "metadata": {},
   "outputs": [
    {
     "data": {
      "text/plain": [
       "<matplotlib.axes._subplots.AxesSubplot at 0x1800cf24a90>"
      ]
     },
     "execution_count": 36,
     "metadata": {},
     "output_type": "execute_result"
    },
    {
     "data": {
      "image/png": "[encoded data removed]",
      "text/plain": [
       "<Figure size 432x288 with 1 Axes>"
      ]
     },
     "metadata": {
      "needs_background": "light"
     },
     "output_type": "display_data"
    }
   ],
   "source": [
    "sbn.distplot(random.binomial(n=10,p=0.5,size=1000),hist=True,kde=False)"
   ]
  },
  {
   "cell_type": "code",
   "execution_count": 37,
   "metadata": {},
   "outputs": [],
   "source": [
    "from scipy.stats import poisson"
   ]
  },
  {
   "cell_type": "code",
   "execution_count": 38,
   "metadata": {},
   "outputs": [
    {
     "data": {
      "text/plain": [
       "8.315287191035679e-07"
      ]
     },
     "execution_count": 38,
     "metadata": {},
     "output_type": "execute_result"
    }
   ],
   "source": [
    "poisson.pmf(0,14)"
   ]
  },
  {
   "cell_type": "code",
   "execution_count": 39,
   "metadata": {},
   "outputs": [
    {
     "data": {
      "text/plain": [
       "0.24787521766663584"
      ]
     },
     "execution_count": 39,
     "metadata": {},
     "output_type": "execute_result"
    }
   ],
   "source": [
    "poisson.pmf(0,6)*100"
   ]
  },
  {
   "cell_type": "code",
   "execution_count": 40,
   "metadata": {},
   "outputs": [
    {
     "data": {
      "text/plain": [
       "0.8987089925601621"
      ]
     },
     "execution_count": 40,
     "metadata": {},
     "output_type": "execute_result"
    }
   ],
   "source": [
    "poisson.cdf(16,12)"
   ]
  },
  {
   "cell_type": "code",
   "execution_count": 41,
   "metadata": {},
   "outputs": [
    {
     "data": {
      "text/plain": [
       "0.10129100743983788"
      ]
     },
     "execution_count": 41,
     "metadata": {},
     "output_type": "execute_result"
    }
   ],
   "source": [
    "1-poisson.cdf(16,12)"
   ]
  },
  {
   "cell_type": "code",
   "execution_count": 43,
   "metadata": {},
   "outputs": [
    {
     "data": {
      "text/plain": [
       "<matplotlib.axes._subplots.AxesSubplot at 0x1800cfb4a60>"
      ]
     },
     "execution_count": 43,
     "metadata": {},
     "output_type": "execute_result"
    },
    {
     "data": {
      "image/png": "[encoded data removed]",
      "text/plain": [
       "<Figure size 432x288 with 1 Axes>"
      ]
     },
     "metadata": {
      "needs_background": "light"
     },
     "output_type": "display_data"
    }
   ],
   "source": [
    "sbn.distplot(random.poisson(lam=12,size=1000),kde=False)"
   ]
  },
  {
   "cell_type": "code",
   "execution_count": 46,
   "metadata": {},
   "outputs": [],
   "source": [
    "fb=pd.read_excel(r\"C:\\Users\\harid\\OneDrive\\Desktop\\python\\data\\datasets\\Fiberbits_v1.xlsx\")"
   ]
  },
  {
   "cell_type": "code",
   "execution_count": 47,
   "metadata": {},
   "outputs": [
    {
     "data": {
      "text/plain": [
       "(100000, 9)"
      ]
     },
     "execution_count": 47,
     "metadata": {},
     "output_type": "execute_result"
    }
   ],
   "source": [
    "fb.shape"
   ]
  },
  {
   "cell_type": "code",
   "execution_count": 48,
   "metadata": {},
   "outputs": [
    {
     "data": {
      "text/plain": [
       "100000"
      ]
     },
     "execution_count": 48,
     "metadata": {},
     "output_type": "execute_result"
    }
   ],
   "source": [
    "len(fb)"
   ]
  },
  {
   "cell_type": "code",
   "execution_count": 58,
   "metadata": {},
   "outputs": [],
   "source": [
    "sample1=fb.sample(n=200,replace=False)"
   ]
  },
  {
   "cell_type": "code",
   "execution_count": 59,
   "metadata": {},
   "outputs": [
    {
     "data": {
      "text/plain": [
       "(200, 9)"
      ]
     },
     "execution_count": 59,
     "metadata": {},
     "output_type": "execute_result"
    }
   ],
   "source": [
    "sample1.shape"
   ]
  },
  {
   "cell_type": "code",
   "execution_count": 63,
   "metadata": {},
   "outputs": [],
   "source": [
    "sample2=fb.sample(n=200,replace=True)"
   ]
  },
  {
   "cell_type": "code",
   "execution_count": 64,
   "metadata": {},
   "outputs": [
    {
     "data": {
      "text/plain": [
       "(200, 9)"
      ]
     },
     "execution_count": 64,
     "metadata": {},
     "output_type": "execute_result"
    }
   ],
   "source": [
    "sample2.shape"
   ]
  },
  {
   "cell_type": "code",
   "execution_count": 65,
   "metadata": {},
   "outputs": [],
   "source": [
    "sample3=sample2.drop_duplicates()"
   ]
  },
  {
   "cell_type": "code",
   "execution_count": 66,
   "metadata": {},
   "outputs": [
    {
     "data": {
      "text/plain": [
       "(200, 9)"
      ]
     },
     "execution_count": 66,
     "metadata": {},
     "output_type": "execute_result"
    }
   ],
   "source": [
    "sample3.shape"
   ]
  },
  {
   "cell_type": "code",
   "execution_count": 67,
   "metadata": {},
   "outputs": [],
   "source": [
    "from sklearn.model_selection import train_test_split"
   ]
  },
  {
   "cell_type": "code",
   "execution_count": 69,
   "metadata": {},
   "outputs": [],
   "source": [
    "train,test=train_test_split(fb,test_size=0.2)"
   ]
  },
  {
   "cell_type": "code",
   "execution_count": 70,
   "metadata": {},
   "outputs": [
    {
     "data": {
      "text/plain": [
       "80000"
      ]
     },
     "execution_count": 70,
     "metadata": {},
     "output_type": "execute_result"
    }
   ],
   "source": [
    "len(train)"
   ]
  },
  {
   "cell_type": "code",
   "execution_count": 71,
   "metadata": {},
   "outputs": [
    {
     "data": {
      "text/plain": [
       "20000"
      ]
     },
     "execution_count": 71,
     "metadata": {},
     "output_type": "execute_result"
    }
   ],
   "source": [
    "len(test)"
   ]
  },
  {
   "cell_type": "code",
   "execution_count": 72,
   "metadata": {},
   "outputs": [
    {
     "data": {
      "text/plain": [
       "Index(['active_cust', 'income', 'months_on_network', 'Num_complaints',\n",
       "       'number_plan_changes', 'relocated', 'monthly_bill',\n",
       "       'technical_issues_per_month', 'Speed_test_result'],\n",
       "      dtype='object')"
      ]
     },
     "execution_count": 72,
     "metadata": {},
     "output_type": "execute_result"
    }
   ],
   "source": [
    "fb.columns"
   ]
  },
  {
   "cell_type": "code",
   "execution_count": 74,
   "metadata": {},
   "outputs": [
    {
     "data": {
      "text/plain": [
       "1    57.859\n",
       "0    42.141\n",
       "Name: active_cust, dtype: float64"
      ]
     },
     "execution_count": 74,
     "metadata": {},
     "output_type": "execute_result"
    }
   ],
   "source": [
    "fb[\"active_cust\"].value_counts()/len(fb)*100"
   ]
  },
  {
   "cell_type": "code",
   "execution_count": 75,
   "metadata": {},
   "outputs": [
    {
     "data": {
      "text/plain": [
       "1    46.398\n",
       "0    33.602\n",
       "Name: active_cust, dtype: float64"
      ]
     },
     "execution_count": 75,
     "metadata": {},
     "output_type": "execute_result"
    }
   ],
   "source": [
    "train[\"active_cust\"].value_counts()/len(fb)*100"
   ]
  },
  {
   "cell_type": "code",
   "execution_count": 76,
   "metadata": {},
   "outputs": [
    {
     "data": {
      "text/plain": [
       "1    11.461\n",
       "0     8.539\n",
       "Name: active_cust, dtype: float64"
      ]
     },
     "execution_count": 76,
     "metadata": {},
     "output_type": "execute_result"
    }
   ],
   "source": [
    "test[\"active_cust\"].value_counts()/len(fb)*100"
   ]
  },
  {
   "cell_type": "code",
   "execution_count": 77,
   "metadata": {},
   "outputs": [],
   "source": [
    "from scipy.spatial.distance import hamming"
   ]
  },
  {
   "cell_type": "code",
   "execution_count": 78,
   "metadata": {},
   "outputs": [],
   "source": [
    "row1=[0,0,0,0,1,1,0,1,0,1,0]\n",
    "row2=[1,0,1,0,1,0,1,0,1,0,1]"
   ]
  },
  {
   "cell_type": "code",
   "execution_count": 79,
   "metadata": {},
   "outputs": [],
   "source": [
    "dist=hamming(row1,row2)"
   ]
  },
  {
   "cell_type": "code",
   "execution_count": 80,
   "metadata": {},
   "outputs": [
    {
     "name": "stdout",
     "output_type": "stream",
     "text": [
      "0.7272727272727273\n"
     ]
    }
   ],
   "source": [
    "print(dist)"
   ]
  },
  {
   "cell_type": "code",
   "execution_count": 81,
   "metadata": {},
   "outputs": [],
   "source": [
    "from scipy.spatial.distance import euclidean"
   ]
  },
  {
   "cell_type": "code",
   "execution_count": 82,
   "metadata": {},
   "outputs": [],
   "source": [
    "dist=euclidean(row1,row2)"
   ]
  },
  {
   "cell_type": "code",
   "execution_count": 83,
   "metadata": {},
   "outputs": [
    {
     "name": "stdout",
     "output_type": "stream",
     "text": [
      "2.8284271247461903\n"
     ]
    }
   ],
   "source": [
    "print(dist)"
   ]
  },
  {
   "cell_type": "code",
   "execution_count": 85,
   "metadata": {},
   "outputs": [],
   "source": [
    "from scipy.spatial.distance import cityblock"
   ]
  },
  {
   "cell_type": "code",
   "execution_count": 86,
   "metadata": {},
   "outputs": [],
   "source": [
    "dist=cityblock(row1,row2)"
   ]
  },
  {
   "cell_type": "code",
   "execution_count": 87,
   "metadata": {},
   "outputs": [
    {
     "name": "stdout",
     "output_type": "stream",
     "text": [
      "8\n"
     ]
    }
   ],
   "source": [
    "print(dist)"
   ]
  },
  {
   "cell_type": "code",
   "execution_count": 88,
   "metadata": {},
   "outputs": [],
   "source": [
    "from scipy.spatial.distance import minkowski"
   ]
  },
  {
   "cell_type": "code",
   "execution_count": 89,
   "metadata": {},
   "outputs": [],
   "source": [
    "dist=minkowski(row1,row2)"
   ]
  },
  {
   "cell_type": "code",
   "execution_count": 90,
   "metadata": {},
   "outputs": [
    {
     "name": "stdout",
     "output_type": "stream",
     "text": [
      "2.8284271247461903\n"
     ]
    }
   ],
   "source": [
    "print(dist)"
   ]
  },
  {
   "cell_type": "code",
   "execution_count": 91,
   "metadata": {},
   "outputs": [
    {
     "name": "stdout",
     "output_type": "stream",
     "text": [
      "<class 'pandas.core.frame.DataFrame'>\n",
      "RangeIndex: 100000 entries, 0 to 99999\n",
      "Data columns (total 9 columns):\n",
      " #   Column                      Non-Null Count   Dtype\n",
      "---  ------                      --------------   -----\n",
      " 0   active_cust                 100000 non-null  int64\n",
      " 1   income                      100000 non-null  int64\n",
      " 2   months_on_network           100000 non-null  int64\n",
      " 3   Num_complaints              100000 non-null  int64\n",
      " 4   number_plan_changes         100000 non-null  int64\n",
      " 5   relocated                   100000 non-null  int64\n",
      " 6   monthly_bill                100000 non-null  int64\n",
      " 7   technical_issues_per_month  100000 non-null  int64\n",
      " 8   Speed_test_result           100000 non-null  int64\n",
      "dtypes: int64(9)\n",
      "memory usage: 6.9 MB\n"
     ]
    }
   ],
   "source": [
    "fb.info()"
   ]
  },
  {
   "cell_type": "code",
   "execution_count": 92,
   "metadata": {},
   "outputs": [
    {
     "data": {
      "text/plain": [
       "<matplotlib.axes._subplots.AxesSubplot at 0x18012245c70>"
      ]
     },
     "execution_count": 92,
     "metadata": {},
     "output_type": "execute_result"
    },
    {
     "data": {
      "image/png": "[encoded data removed]",
      "text/plain": [
       "<Figure size 432x288 with 1 Axes>"
      ]
     },
     "metadata": {
      "needs_background": "light"
     },
     "output_type": "display_data"
    }
   ],
   "source": [
    "sbn.boxplot(fb[\"active_cust\"])"
   ]
  },
  {
   "cell_type": "code",
   "execution_count": 93,
   "metadata": {},
   "outputs": [
    {
     "data": {
      "text/plain": [
       "<matplotlib.axes._subplots.AxesSubplot at 0x18011a07850>"
      ]
     },
     "execution_count": 93,
     "metadata": {},
     "output_type": "execute_result"
    },
    {
     "data": {
      "image/png": "[encoded data removed]",
      "text/plain": [
       "<Figure size 432x288 with 1 Axes>"
      ]
     },
     "metadata": {
      "needs_background": "light"
     },
     "output_type": "display_data"
    }
   ],
   "source": [
    "sbn.boxplot(fb[\"Speed_test_result\"])"
   ]
  },
  {
   "cell_type": "code",
   "execution_count": 94,
   "metadata": {},
   "outputs": [
    {
     "data": {
      "text/plain": [
       "<matplotlib.axes._subplots.AxesSubplot at 0x1801189d910>"
      ]
     },
     "execution_count": 94,
     "metadata": {},
     "output_type": "execute_result"
    },
    {
     "data": {
      "image/png": "[encoded data removed]",
      "text/plain": [
       "<Figure size 432x288 with 1 Axes>"
      ]
     },
     "metadata": {
      "needs_background": "light"
     },
     "output_type": "display_data"
    }
   ],
   "source": [
    "sbn.boxplot(fb[\"Speed_test_result\"],sym=\"\")"
   ]
  },
  {
   "cell_type": "code",
   "execution_count": 97,
   "metadata": {},
   "outputs": [
    {
     "data": {
      "text/plain": [
       "<seaborn.axisgrid.PairGrid at 0x1801227d790>"
      ]
     },
     "execution_count": 97,
     "metadata": {},
     "output_type": "execute_result"
    },
    {
     "data": {
      "image/png": "[encoded data removed]",
      "text/plain": [
       "<Figure size 360x360 with 6 Axes>"
      ]
     },
     "metadata": {
      "needs_background": "light"
     },
     "output_type": "display_data"
    }
   ],
   "source": [
    "sbn.pairplot(fb[[\"active_cust\",\"Speed_test_result\"]])"
   ]
  },
  {
   "cell_type": "code",
   "execution_count": 98,
   "metadata": {},
   "outputs": [],
   "source": [
    "# k means\n",
    "\n",
    "from sklearn.cluster import KMeans"
   ]
  },
  {
   "cell_type": "code",
   "execution_count": 100,
   "metadata": {},
   "outputs": [
    {
     "data": {
      "text/plain": [
       "{'algorithm': 'auto',\n",
       " 'copy_x': True,\n",
       " 'init': 'k-means++',\n",
       " 'max_iter': 300,\n",
       " 'n_clusters': 8,\n",
       " 'n_init': 10,\n",
       " 'n_jobs': 'deprecated',\n",
       " 'precompute_distances': 'deprecated',\n",
       " 'random_state': None,\n",
       " 'tol': 0.0001,\n",
       " 'verbose': 0}"
      ]
     },
     "execution_count": 100,
     "metadata": {},
     "output_type": "execute_result"
    }
   ],
   "source": [
    "km=KMeans()\n",
    "km.fit(fb)\n",
    "km.get_params()"
   ]
  },
  {
   "cell_type": "code",
   "execution_count": 102,
   "metadata": {},
   "outputs": [
    {
     "data": {
      "text/plain": [
       "KMeans(n_clusters=4)"
      ]
     },
     "execution_count": 102,
     "metadata": {},
     "output_type": "execute_result"
    }
   ],
   "source": [
    "km=KMeans(n_clusters=4)\n",
    "km.fit(fb)"
   ]
  },
  {
   "cell_type": "code",
   "execution_count": 103,
   "metadata": {},
   "outputs": [
    {
     "name": "stdout",
     "output_type": "stream",
     "text": [
      "Initialization complete\n",
      "Iteration 0, inertia 1190083800.0\n",
      "Iteration 1, inertia 801005497.7664609\n",
      "Iteration 2, inertia 742951079.3216612\n",
      "Iteration 3, inertia 735887741.6494067\n",
      "Converged at iteration 3: center shift 32.99633666013412 within tolerance 81.7769730310092\n",
      "Initialization complete\n",
      "Iteration 0, inertia 835780789.0\n",
      "Iteration 1, inertia 727464705.5309243\n",
      "Iteration 2, inertia 723274391.1659873\n",
      "Converged at iteration 2: center shift 35.936724870075786 within tolerance 81.7769730310092\n",
      "Initialization complete\n",
      "Iteration 0, inertia 946512130.0\n",
      "Iteration 1, inertia 790076293.5066183\n",
      "Iteration 2, inertia 783445890.5265422\n",
      "Iteration 3, inertia 781048089.965582\n",
      "Converged at iteration 3: center shift 47.151095215031646 within tolerance 81.7769730310092\n",
      "Initialization complete\n",
      "Iteration 0, inertia 1131213392.0\n",
      "Iteration 1, inertia 977222346.6151849\n",
      "Iteration 2, inertia 972735569.3854842\n",
      "Converged at iteration 2: center shift 30.27114265826689 within tolerance 81.7769730310092\n",
      "Initialization complete\n",
      "Iteration 0, inertia 929525367.0\n",
      "Iteration 1, inertia 740218230.5820127\n",
      "Iteration 2, inertia 725161591.6563658\n",
      "Iteration 3, inertia 722058005.7444575\n",
      "Iteration 4, inertia 720959978.5167725\n",
      "Converged at iteration 4: center shift 13.15895695532366 within tolerance 81.7769730310092\n",
      "Initialization complete\n",
      "Iteration 0, inertia 879735110.0\n",
      "Iteration 1, inertia 727234401.5690466\n",
      "Iteration 2, inertia 722849914.6185919\n",
      "Iteration 3, inertia 721475238.452642\n",
      "Converged at iteration 3: center shift 14.95935064504215 within tolerance 81.7769730310092\n",
      "Initialization complete\n",
      "Iteration 0, inertia 890488635.0\n",
      "Iteration 1, inertia 792524486.271972\n",
      "Iteration 2, inertia 763054481.281531\n",
      "Iteration 3, inertia 746362509.4006214\n",
      "Iteration 4, inertia 735544852.0042129\n",
      "Iteration 5, inertia 729668623.5872551\n",
      "Converged at iteration 5: center shift 72.58227656464877 within tolerance 81.7769730310092\n",
      "Initialization complete\n",
      "Iteration 0, inertia 969456457.0\n",
      "Iteration 1, inertia 781577033.9734398\n",
      "Iteration 2, inertia 770869836.5349271\n",
      "Iteration 3, inertia 767413374.279558\n",
      "Iteration 4, inertia 766421703.9869447\n",
      "Iteration 5, inertia 766203345.5723258\n",
      "Converged at iteration 5: center shift 16.5976938927579 within tolerance 81.7769730310092\n",
      "Initialization complete\n",
      "Iteration 0, inertia 1158897668.0\n",
      "Iteration 1, inertia 756214599.7561702\n",
      "Iteration 2, inertia 735060228.9780712\n",
      "Iteration 3, inertia 727761545.8402717\n",
      "Converged at iteration 3: center shift 64.74227328312264 within tolerance 81.7769730310092\n",
      "Initialization complete\n",
      "Iteration 0, inertia 1014870003.0\n",
      "Iteration 1, inertia 741387629.7982901\n",
      "Iteration 2, inertia 725129869.1120031\n",
      "Converged at iteration 2: center shift 52.845674707300944 within tolerance 81.7769730310092\n"
     ]
    },
    {
     "data": {
      "text/plain": [
       "{'algorithm': 'auto',\n",
       " 'copy_x': True,\n",
       " 'init': 'k-means++',\n",
       " 'max_iter': 300,\n",
       " 'n_clusters': 8,\n",
       " 'n_init': 10,\n",
       " 'n_jobs': 'deprecated',\n",
       " 'precompute_distances': 'deprecated',\n",
       " 'random_state': None,\n",
       " 'tol': 0.0001,\n",
       " 'verbose': 1}"
      ]
     },
     "execution_count": 103,
     "metadata": {},
     "output_type": "execute_result"
    }
   ],
   "source": [
    "km=KMeans(verbose=1)\n",
    "km.fit(fb)\n",
    "km.get_params()"
   ]
  },
  {
   "cell_type": "code",
   "execution_count": 104,
   "metadata": {},
   "outputs": [
    {
     "name": "stdout",
     "output_type": "stream",
     "text": [
      "Initialization complete\n",
      "Iteration 0, inertia 1013091303.0\n",
      "Iteration 1, inertia 757898724.3033568\n",
      "Iteration 2, inertia 751665531.3041828\n",
      "Iteration 3, inertia 747133135.8032389\n",
      "Iteration 4, inertia 743487379.8752043\n",
      "Iteration 5, inertia 740932455.2310828\n",
      "Iteration 6, inertia 738825129.6153774\n",
      "Converged at iteration 6: center shift 65.94551440361599 within tolerance 81.7769730310092\n",
      "Initialization complete\n",
      "Iteration 0, inertia 1169052049.0\n",
      "Iteration 1, inertia 1047005957.5009819\n",
      "Iteration 2, inertia 1028364148.0257702\n",
      "Iteration 3, inertia 1015097059.2205001\n",
      "Iteration 4, inertia 1007291371.1536441\n",
      "Iteration 5, inertia 1003729932.2470986\n",
      "Converged at iteration 5: center shift 38.99833975632392 within tolerance 81.7769730310092\n",
      "Initialization complete\n",
      "Iteration 0, inertia 1101811088.0\n",
      "Iteration 1, inertia 1006630170.4871856\n",
      "Iteration 2, inertia 1003088467.8910154\n",
      "Converged at iteration 2: center shift 40.49301993312399 within tolerance 81.7769730310092\n",
      "Initialization complete\n",
      "Iteration 0, inertia 951268752.0\n",
      "Iteration 1, inertia 784566111.169407\n",
      "Iteration 2, inertia 754151428.9625103\n",
      "Iteration 3, inertia 738540199.5059024\n",
      "Iteration 4, inertia 730057951.3659533\n",
      "Iteration 5, inertia 725994807.3501617\n",
      "Converged at iteration 5: center shift 46.06238895312115 within tolerance 81.7769730310092\n",
      "Initialization complete\n",
      "Iteration 0, inertia 915806674.0\n",
      "Iteration 1, inertia 744079863.5735289\n",
      "Iteration 2, inertia 729144786.3535267\n",
      "Iteration 3, inertia 724931232.5218531\n",
      "Converged at iteration 3: center shift 35.71340244157916 within tolerance 81.7769730310092\n",
      "Initialization complete\n",
      "Iteration 0, inertia 1028458269.0\n",
      "Iteration 1, inertia 788240952.1232592\n",
      "Iteration 2, inertia 784330338.3116041\n",
      "Converged at iteration 2: center shift 55.576444625338674 within tolerance 81.7769730310092\n",
      "Initialization complete\n",
      "Iteration 0, inertia 890506134.0\n",
      "Iteration 1, inertia 748187583.0149364\n",
      "Iteration 2, inertia 730821374.6761979\n",
      "Iteration 3, inertia 726498659.8029203\n",
      "Converged at iteration 3: center shift 53.178034432690666 within tolerance 81.7769730310092\n",
      "Initialization complete\n",
      "Iteration 0, inertia 983438364.0\n",
      "Iteration 1, inertia 755565694.2781535\n",
      "Iteration 2, inertia 736360706.8365002\n",
      "Iteration 3, inertia 732419698.4604262\n",
      "Converged at iteration 3: center shift 47.62370907150542 within tolerance 81.7769730310092\n",
      "Initialization complete\n",
      "Iteration 0, inertia 1267821634.0\n",
      "Iteration 1, inertia 808487478.787706\n",
      "Iteration 2, inertia 765335523.3105154\n",
      "Iteration 3, inertia 743686456.3737129\n",
      "Iteration 4, inertia 730700462.4419688\n",
      "Iteration 5, inertia 725248954.6939921\n",
      "Converged at iteration 5: center shift 51.19513944539808 within tolerance 81.7769730310092\n",
      "Initialization complete\n",
      "Iteration 0, inertia 1008468239.0\n",
      "Iteration 1, inertia 789970427.2810327\n",
      "Iteration 2, inertia 781277129.7096928\n",
      "Converged at iteration 2: center shift 56.99386335625022 within tolerance 81.7769730310092\n"
     ]
    },
    {
     "data": {
      "text/plain": [
       "{'algorithm': 'auto',\n",
       " 'copy_x': True,\n",
       " 'init': 'k-means++',\n",
       " 'max_iter': 300,\n",
       " 'n_clusters': 8,\n",
       " 'n_init': 10,\n",
       " 'n_jobs': 'deprecated',\n",
       " 'precompute_distances': 'deprecated',\n",
       " 'random_state': None,\n",
       " 'tol': 0.0001,\n",
       " 'verbose': 5}"
      ]
     },
     "execution_count": 104,
     "metadata": {},
     "output_type": "execute_result"
    }
   ],
   "source": [
    "km=KMeans(verbose=5)\n",
    "km.fit(fb)\n",
    "km.get_params()"
   ]
  },
  {
   "cell_type": "code",
   "execution_count": 105,
   "metadata": {},
   "outputs": [
    {
     "name": "stdout",
     "output_type": "stream",
     "text": [
      "Initialization complete\n",
      "Iteration 0, inertia 1067155089.0\n",
      "Iteration 1, inertia 784528511.6530576\n",
      "Iteration 2, inertia 781156053.3976777\n",
      "Converged at iteration 2: center shift 23.13930256468234 within tolerance 81.7769730310092\n",
      "Initialization complete\n",
      "Iteration 0, inertia 928724855.0\n",
      "Iteration 1, inertia 740983992.2688452\n",
      "Iteration 2, inertia 728545186.0743865\n",
      "Converged at iteration 2: center shift 64.57704052420048 within tolerance 81.7769730310092\n",
      "Initialization complete\n",
      "Iteration 0, inertia 1055798680.0\n",
      "Iteration 1, inertia 793578585.536533\n",
      "Iteration 2, inertia 787315625.2755419\n",
      "Iteration 3, inertia 785494538.5789746\n",
      "Iteration 4, inertia 784079898.9495269\n",
      "Converged at iteration 4: center shift 47.06847667001122 within tolerance 81.7769730310092\n",
      "Initialization complete\n",
      "Iteration 0, inertia 889459942.0\n",
      "Iteration 1, inertia 732720937.5686158\n",
      "Iteration 2, inertia 724744784.7808492\n",
      "Converged at iteration 2: center shift 57.20139766825237 within tolerance 81.7769730310092\n",
      "Initialization complete\n",
      "Iteration 0, inertia 996130632.0\n",
      "Iteration 1, inertia 762762403.2536732\n",
      "Iteration 2, inertia 730010939.2437518\n",
      "Iteration 3, inertia 721918993.2450596\n",
      "Converged at iteration 3: center shift 45.59304429648193 within tolerance 81.7769730310092\n",
      "Initialization complete\n",
      "Iteration 0, inertia 1034862306.0\n",
      "Iteration 1, inertia 762565582.347548\n",
      "Iteration 2, inertia 735096155.4141049\n",
      "Iteration 3, inertia 725703673.7169564\n",
      "Iteration 4, inertia 722637084.1976655\n",
      "Iteration 5, inertia 721114550.3083436\n",
      "Converged at iteration 5: center shift 6.853863977689553 within tolerance 81.7769730310092\n",
      "Initialization complete\n",
      "Iteration 0, inertia 1250835298.0\n",
      "Iteration 1, inertia 827819016.4503921\n",
      "Iteration 2, inertia 752027281.7782584\n",
      "Iteration 3, inertia 728973262.5313431\n",
      "Iteration 4, inertia 722465540.801895\n",
      "Iteration 5, inertia 720598034.6627413\n",
      "Converged at iteration 5: center shift 15.343209882684771 within tolerance 81.7769730310092\n",
      "Initialization complete\n",
      "Iteration 0, inertia 1208294766.0\n",
      "Iteration 1, inertia 829353044.1240022\n",
      "Iteration 2, inertia 743391579.3915387\n",
      "Iteration 3, inertia 735542772.783426\n",
      "Converged at iteration 3: center shift 73.12867887664046 within tolerance 81.7769730310092\n",
      "Initialization complete\n",
      "Iteration 0, inertia 1242690892.0\n",
      "Iteration 1, inertia 1017965610.6425186\n",
      "Iteration 2, inertia 1006868045.3215134\n",
      "Iteration 3, inertia 1003904082.4307292\n",
      "Converged at iteration 3: center shift 65.23631893870075 within tolerance 81.7769730310092\n",
      "Initialization complete\n",
      "Iteration 0, inertia 876090479.0\n",
      "Iteration 1, inertia 734252285.4029486\n",
      "Iteration 2, inertia 727011457.8585538\n",
      "Converged at iteration 2: center shift 48.32025080489848 within tolerance 81.7769730310092\n"
     ]
    },
    {
     "data": {
      "text/plain": [
       "{'algorithm': 'auto',\n",
       " 'copy_x': True,\n",
       " 'init': 'k-means++',\n",
       " 'max_iter': 300,\n",
       " 'n_clusters': 8,\n",
       " 'n_init': 10,\n",
       " 'n_jobs': 'deprecated',\n",
       " 'precompute_distances': 'deprecated',\n",
       " 'random_state': None,\n",
       " 'tol': 0.0001,\n",
       " 'verbose': 10}"
      ]
     },
     "execution_count": 105,
     "metadata": {},
     "output_type": "execute_result"
    }
   ],
   "source": [
    "km=KMeans(verbose=10)\n",
    "km.fit(fb)\n",
    "km.get_params()"
   ]
  },
  {
   "cell_type": "code",
   "execution_count": 106,
   "metadata": {},
   "outputs": [
    {
     "data": {
      "text/plain": [
       "{'algorithm': 'auto',\n",
       " 'copy_x': True,\n",
       " 'init': 'k-means++',\n",
       " 'max_iter': 300,\n",
       " 'n_clusters': 8,\n",
       " 'n_init': 10,\n",
       " 'n_jobs': 'deprecated',\n",
       " 'precompute_distances': 'deprecated',\n",
       " 'random_state': None,\n",
       " 'tol': 0.0001,\n",
       " 'verbose': 10}"
      ]
     },
     "execution_count": 106,
     "metadata": {},
     "output_type": "execute_result"
    }
   ],
   "source": [
    "km.get_params()"
   ]
  },
  {
   "cell_type": "code",
   "execution_count": 107,
   "metadata": {},
   "outputs": [
    {
     "name": "stdout",
     "output_type": "stream",
     "text": [
      "Initialization complete\n",
      "Iteration 0, inertia 1076079234.0\n",
      "Iteration 1, inertia 792810159.2523246\n",
      "Iteration 2, inertia 780699991.5164738\n",
      "Converged at iteration 2: center shift 60.350366762517226 within tolerance 81.7769730310092\n",
      "Initialization complete\n",
      "Iteration 0, inertia 1204361447.0\n",
      "Iteration 1, inertia 765156176.5278302\n",
      "Iteration 2, inertia 738654634.1775448\n",
      "Iteration 3, inertia 730551721.5450382\n",
      "Iteration 4, inertia 727579048.0177732\n",
      "Converged at iteration 4: center shift 36.058305316895954 within tolerance 81.7769730310092\n",
      "Initialization complete\n",
      "Iteration 0, inertia 1093125688.0\n",
      "Iteration 1, inertia 795021749.2129276\n",
      "Iteration 2, inertia 771510813.0432659\n",
      "Iteration 3, inertia 767335449.71775\n",
      "Iteration 4, inertia 766428230.2915177\n",
      "Iteration 5, inertia 766209053.3037248\n",
      "Iteration 6, inertia 766133706.9537905\n",
      "Converged at iteration 6: center shift 15.59589221618334 within tolerance 81.7769730310092\n",
      "Initialization complete\n",
      "Iteration 0, inertia 1019532691.0\n",
      "Iteration 1, inertia 739846874.2913179\n",
      "Iteration 2, inertia 721861297.045435\n",
      "Converged at iteration 2: center shift 48.83823952324444 within tolerance 81.7769730310092\n",
      "Initialization complete\n",
      "Iteration 0, inertia 1458012064.0\n",
      "Iteration 1, inertia 1011629223.5065267\n",
      "Iteration 2, inertia 920200500.3942095\n",
      "Iteration 3, inertia 842801168.7301041\n",
      "Iteration 4, inertia 779033670.1410326\n",
      "Iteration 5, inertia 748856688.4146789\n",
      "Iteration 6, inertia 738892306.8197114\n",
      "Iteration 7, inertia 735788437.0351043\n",
      "Converged at iteration 7: center shift 75.0377204507517 within tolerance 81.7769730310092\n",
      "Initialization complete\n",
      "Iteration 0, inertia 972538826.0\n",
      "Iteration 1, inertia 818368501.3646759\n",
      "Iteration 2, inertia 782259853.7557995\n",
      "Iteration 3, inertia 771778167.3577601\n",
      "Iteration 4, inertia 768291003.6165097\n",
      "Iteration 5, inertia 766779452.929305\n",
      "Iteration 6, inertia 766355401.0670408\n",
      "Iteration 7, inertia 766240033.8151014\n",
      "Converged at iteration 7: center shift 67.20651767493719 within tolerance 81.7769730310092\n",
      "Initialization complete\n",
      "Iteration 0, inertia 923594078.0\n",
      "Iteration 1, inertia 758797116.5752466\n",
      "Iteration 2, inertia 738953590.8848825\n",
      "Iteration 3, inertia 731739209.5361828\n",
      "Iteration 4, inertia 727438578.003052\n",
      "Converged at iteration 4: center shift 54.58458188118419 within tolerance 81.7769730310092\n",
      "Initialization complete\n",
      "Iteration 0, inertia 1129491363.0\n",
      "Iteration 1, inertia 806311382.8184079\n",
      "Iteration 2, inertia 778247722.4206625\n",
      "Iteration 3, inertia 761846535.4323657\n",
      "Iteration 4, inertia 740003071.4929624\n",
      "Iteration 5, inertia 726835814.8724756\n",
      "Iteration 6, inertia 722490077.3973604\n",
      "Converged at iteration 6: center shift 29.430078956907835 within tolerance 81.7769730310092\n",
      "Initialization complete\n",
      "Iteration 0, inertia 1055550685.0\n",
      "Iteration 1, inertia 750777036.5400672\n",
      "Iteration 2, inertia 732841255.8117311\n",
      "Converged at iteration 2: center shift 44.48262167268769 within tolerance 81.7769730310092\n",
      "Initialization complete\n",
      "Iteration 0, inertia 1186111867.0\n",
      "Iteration 1, inertia 1006402196.9754353\n",
      "Iteration 2, inertia 992415471.8692346\n",
      "Iteration 3, inertia 982500691.7637194\n",
      "Iteration 4, inertia 973630073.9127109\n",
      "Iteration 5, inertia 967194458.8264965\n",
      "Iteration 6, inertia 963727846.206523\n",
      "Converged at iteration 6: center shift 46.650387083741194 within tolerance 81.7769730310092\n"
     ]
    },
    {
     "data": {
      "text/plain": [
       "{'algorithm': 'auto',\n",
       " 'copy_x': True,\n",
       " 'init': 'k-means++',\n",
       " 'max_iter': 300,\n",
       " 'n_clusters': 8,\n",
       " 'n_init': 10,\n",
       " 'n_jobs': 'deprecated',\n",
       " 'precompute_distances': 'deprecated',\n",
       " 'random_state': None,\n",
       " 'tol': 0.0001,\n",
       " 'verbose': 1}"
      ]
     },
     "execution_count": 107,
     "metadata": {},
     "output_type": "execute_result"
    }
   ],
   "source": [
    "km=KMeans(verbose=1)\n",
    "km.fit(fb)\n",
    "km.get_params()"
   ]
  },
  {
   "cell_type": "code",
   "execution_count": 108,
   "metadata": {},
   "outputs": [
    {
     "data": {
      "text/plain": [
       "{'algorithm': 'auto',\n",
       " 'copy_x': True,\n",
       " 'init': 'k-means++',\n",
       " 'max_iter': 300,\n",
       " 'n_clusters': 6,\n",
       " 'n_init': 10,\n",
       " 'n_jobs': 'deprecated',\n",
       " 'precompute_distances': 'deprecated',\n",
       " 'random_state': None,\n",
       " 'tol': 0.0001,\n",
       " 'verbose': 0}"
      ]
     },
     "execution_count": 108,
     "metadata": {},
     "output_type": "execute_result"
    }
   ],
   "source": [
    "km=KMeans(n_clusters=6)\n",
    "km.fit(fb)\n",
    "km.get_params()"
   ]
  },
  {
   "cell_type": "code",
   "execution_count": null,
   "metadata": {},
   "outputs": [],
   "source": []
  }
 ],
 "metadata": {
  "kernelspec": {
   "display_name": "Python 3",
   "language": "python",
   "name": "python3"
  },
  "language_info": {
   "codemirror_mode": {
    "name": "ipython",
    "version": 3
   },
   "file_extension": ".py",
   "mimetype": "text/x-python",
   "name": "python",
   "nbconvert_exporter": "python",
   "pygments_lexer": "ipython3",
   "version": "3.8.3"
  }
 },
 "nbformat": 4,
 "nbformat_minor": 4
}
