{
 "cells": [
  {
   "cell_type": "code",
   "execution_count": 1,
   "metadata": {},
   "outputs": [],
   "source": [
    "import numpy as np\n",
    "import pandas as pd\n",
    "import matplotlib.pyplot as plt\n",
    "import seaborn as sbn"
   ]
  },
  {
   "cell_type": "code",
   "execution_count": 3,
   "metadata": {},
   "outputs": [],
   "source": [
    "fb=pd.read_excel(r\"E:\\ds course\\data sets\\prac data sets\\Fiberbits_v1.xlsx\")"
   ]
  },
  {
   "cell_type": "code",
   "execution_count": 4,
   "metadata": {},
   "outputs": [
    {
     "data": {
      "text/plain": [
       "(100000, 9)"
      ]
     },
     "execution_count": 4,
     "metadata": {},
     "output_type": "execute_result"
    }
   ],
   "source": [
    "fb.shape"
   ]
  },
  {
   "cell_type": "code",
   "execution_count": 5,
   "metadata": {},
   "outputs": [
    {
     "data": {
      "text/html": [
       "<div>\n",
       "<style scoped>\n",
       "    .dataframe tbody tr th:only-of-type {\n",
       "        vertical-align: middle;\n",
       "    }\n",
       "\n",
       "    .dataframe tbody tr th {\n",
       "        vertical-align: top;\n",
       "    }\n",
       "\n",
       "    .dataframe thead th {\n",
       "        text-align: right;\n",
       "    }\n",
       "</style>\n",
       "<table border=\"1\" class=\"dataframe\">\n",
       "  <thead>\n",
       "    <tr style=\"text-align: right;\">\n",
       "      <th></th>\n",
       "      <th>active_cust</th>\n",
       "      <th>income</th>\n",
       "      <th>months_on_network</th>\n",
       "      <th>Num_complaints</th>\n",
       "      <th>number_plan_changes</th>\n",
       "      <th>relocated</th>\n",
       "      <th>monthly_bill</th>\n",
       "      <th>technical_issues_per_month</th>\n",
       "      <th>Speed_test_result</th>\n",
       "    </tr>\n",
       "  </thead>\n",
       "  <tbody>\n",
       "    <tr>\n",
       "      <th>0</th>\n",
       "      <td>0</td>\n",
       "      <td>1586</td>\n",
       "      <td>85</td>\n",
       "      <td>4</td>\n",
       "      <td>1</td>\n",
       "      <td>0</td>\n",
       "      <td>121</td>\n",
       "      <td>4</td>\n",
       "      <td>85</td>\n",
       "    </tr>\n",
       "    <tr>\n",
       "      <th>1</th>\n",
       "      <td>0</td>\n",
       "      <td>1581</td>\n",
       "      <td>85</td>\n",
       "      <td>4</td>\n",
       "      <td>1</td>\n",
       "      <td>0</td>\n",
       "      <td>133</td>\n",
       "      <td>4</td>\n",
       "      <td>85</td>\n",
       "    </tr>\n",
       "    <tr>\n",
       "      <th>2</th>\n",
       "      <td>0</td>\n",
       "      <td>1594</td>\n",
       "      <td>82</td>\n",
       "      <td>4</td>\n",
       "      <td>1</td>\n",
       "      <td>0</td>\n",
       "      <td>118</td>\n",
       "      <td>4</td>\n",
       "      <td>85</td>\n",
       "    </tr>\n",
       "    <tr>\n",
       "      <th>3</th>\n",
       "      <td>0</td>\n",
       "      <td>1594</td>\n",
       "      <td>82</td>\n",
       "      <td>4</td>\n",
       "      <td>1</td>\n",
       "      <td>0</td>\n",
       "      <td>123</td>\n",
       "      <td>4</td>\n",
       "      <td>85</td>\n",
       "    </tr>\n",
       "    <tr>\n",
       "      <th>4</th>\n",
       "      <td>1</td>\n",
       "      <td>1609</td>\n",
       "      <td>80</td>\n",
       "      <td>4</td>\n",
       "      <td>1</td>\n",
       "      <td>0</td>\n",
       "      <td>177</td>\n",
       "      <td>4</td>\n",
       "      <td>85</td>\n",
       "    </tr>\n",
       "  </tbody>\n",
       "</table>\n",
       "</div>"
      ],
      "text/plain": [
       "   active_cust  income  months_on_network  Num_complaints  \\\n",
       "0            0    1586                 85               4   \n",
       "1            0    1581                 85               4   \n",
       "2            0    1594                 82               4   \n",
       "3            0    1594                 82               4   \n",
       "4            1    1609                 80               4   \n",
       "\n",
       "   number_plan_changes  relocated  monthly_bill  technical_issues_per_month  \\\n",
       "0                    1          0           121                           4   \n",
       "1                    1          0           133                           4   \n",
       "2                    1          0           118                           4   \n",
       "3                    1          0           123                           4   \n",
       "4                    1          0           177                           4   \n",
       "\n",
       "   Speed_test_result  \n",
       "0                 85  \n",
       "1                 85  \n",
       "2                 85  \n",
       "3                 85  \n",
       "4                 85  "
      ]
     },
     "execution_count": 5,
     "metadata": {},
     "output_type": "execute_result"
    }
   ],
   "source": [
    "fb.head()"
   ]
  },
  {
   "cell_type": "code",
   "execution_count": 6,
   "metadata": {},
   "outputs": [
    {
     "data": {
      "text/html": [
       "<div>\n",
       "<style scoped>\n",
       "    .dataframe tbody tr th:only-of-type {\n",
       "        vertical-align: middle;\n",
       "    }\n",
       "\n",
       "    .dataframe tbody tr th {\n",
       "        vertical-align: top;\n",
       "    }\n",
       "\n",
       "    .dataframe thead th {\n",
       "        text-align: right;\n",
       "    }\n",
       "</style>\n",
       "<table border=\"1\" class=\"dataframe\">\n",
       "  <thead>\n",
       "    <tr style=\"text-align: right;\">\n",
       "      <th></th>\n",
       "      <th>active_cust</th>\n",
       "      <th>income</th>\n",
       "      <th>months_on_network</th>\n",
       "      <th>Num_complaints</th>\n",
       "      <th>number_plan_changes</th>\n",
       "      <th>relocated</th>\n",
       "      <th>monthly_bill</th>\n",
       "      <th>technical_issues_per_month</th>\n",
       "      <th>Speed_test_result</th>\n",
       "    </tr>\n",
       "  </thead>\n",
       "  <tbody>\n",
       "    <tr>\n",
       "      <th>99995</th>\n",
       "      <td>1</td>\n",
       "      <td>1673</td>\n",
       "      <td>71</td>\n",
       "      <td>4</td>\n",
       "      <td>2</td>\n",
       "      <td>0</td>\n",
       "      <td>46</td>\n",
       "      <td>4</td>\n",
       "      <td>86</td>\n",
       "    </tr>\n",
       "    <tr>\n",
       "      <th>99996</th>\n",
       "      <td>1</td>\n",
       "      <td>1667</td>\n",
       "      <td>71</td>\n",
       "      <td>4</td>\n",
       "      <td>2</td>\n",
       "      <td>0</td>\n",
       "      <td>47</td>\n",
       "      <td>4</td>\n",
       "      <td>86</td>\n",
       "    </tr>\n",
       "    <tr>\n",
       "      <th>99997</th>\n",
       "      <td>1</td>\n",
       "      <td>1672</td>\n",
       "      <td>71</td>\n",
       "      <td>4</td>\n",
       "      <td>2</td>\n",
       "      <td>0</td>\n",
       "      <td>36</td>\n",
       "      <td>4</td>\n",
       "      <td>86</td>\n",
       "    </tr>\n",
       "    <tr>\n",
       "      <th>99998</th>\n",
       "      <td>1</td>\n",
       "      <td>1686</td>\n",
       "      <td>69</td>\n",
       "      <td>4</td>\n",
       "      <td>2</td>\n",
       "      <td>0</td>\n",
       "      <td>47</td>\n",
       "      <td>4</td>\n",
       "      <td>86</td>\n",
       "    </tr>\n",
       "    <tr>\n",
       "      <th>99999</th>\n",
       "      <td>1</td>\n",
       "      <td>1687</td>\n",
       "      <td>69</td>\n",
       "      <td>4</td>\n",
       "      <td>2</td>\n",
       "      <td>0</td>\n",
       "      <td>33</td>\n",
       "      <td>4</td>\n",
       "      <td>86</td>\n",
       "    </tr>\n",
       "  </tbody>\n",
       "</table>\n",
       "</div>"
      ],
      "text/plain": [
       "       active_cust  income  months_on_network  Num_complaints  \\\n",
       "99995            1    1673                 71               4   \n",
       "99996            1    1667                 71               4   \n",
       "99997            1    1672                 71               4   \n",
       "99998            1    1686                 69               4   \n",
       "99999            1    1687                 69               4   \n",
       "\n",
       "       number_plan_changes  relocated  monthly_bill  \\\n",
       "99995                    2          0            46   \n",
       "99996                    2          0            47   \n",
       "99997                    2          0            36   \n",
       "99998                    2          0            47   \n",
       "99999                    2          0            33   \n",
       "\n",
       "       technical_issues_per_month  Speed_test_result  \n",
       "99995                           4                 86  \n",
       "99996                           4                 86  \n",
       "99997                           4                 86  \n",
       "99998                           4                 86  \n",
       "99999                           4                 86  "
      ]
     },
     "execution_count": 6,
     "metadata": {},
     "output_type": "execute_result"
    }
   ],
   "source": [
    "fb.tail()"
   ]
  },
  {
   "cell_type": "code",
   "execution_count": 7,
   "metadata": {},
   "outputs": [
    {
     "name": "stdout",
     "output_type": "stream",
     "text": [
      "<class 'pandas.core.frame.DataFrame'>\n",
      "RangeIndex: 100000 entries, 0 to 99999\n",
      "Data columns (total 9 columns):\n",
      " #   Column                      Non-Null Count   Dtype\n",
      "---  ------                      --------------   -----\n",
      " 0   active_cust                 100000 non-null  int64\n",
      " 1   income                      100000 non-null  int64\n",
      " 2   months_on_network           100000 non-null  int64\n",
      " 3   Num_complaints              100000 non-null  int64\n",
      " 4   number_plan_changes         100000 non-null  int64\n",
      " 5   relocated                   100000 non-null  int64\n",
      " 6   monthly_bill                100000 non-null  int64\n",
      " 7   technical_issues_per_month  100000 non-null  int64\n",
      " 8   Speed_test_result           100000 non-null  int64\n",
      "dtypes: int64(9)\n",
      "memory usage: 6.9 MB\n"
     ]
    }
   ],
   "source": [
    "fb.info()"
   ]
  },
  {
   "cell_type": "code",
   "execution_count": 8,
   "metadata": {},
   "outputs": [
    {
     "data": {
      "text/html": [
       "<div>\n",
       "<style scoped>\n",
       "    .dataframe tbody tr th:only-of-type {\n",
       "        vertical-align: middle;\n",
       "    }\n",
       "\n",
       "    .dataframe tbody tr th {\n",
       "        vertical-align: top;\n",
       "    }\n",
       "\n",
       "    .dataframe thead th {\n",
       "        text-align: right;\n",
       "    }\n",
       "</style>\n",
       "<table border=\"1\" class=\"dataframe\">\n",
       "  <thead>\n",
       "    <tr style=\"text-align: right;\">\n",
       "      <th></th>\n",
       "      <th>active_cust</th>\n",
       "      <th>income</th>\n",
       "      <th>months_on_network</th>\n",
       "      <th>Num_complaints</th>\n",
       "      <th>number_plan_changes</th>\n",
       "      <th>relocated</th>\n",
       "      <th>monthly_bill</th>\n",
       "      <th>technical_issues_per_month</th>\n",
       "      <th>Speed_test_result</th>\n",
       "    </tr>\n",
       "  </thead>\n",
       "  <tbody>\n",
       "    <tr>\n",
       "      <th>count</th>\n",
       "      <td>100000.000000</td>\n",
       "      <td>100000.000000</td>\n",
       "      <td>100000.000000</td>\n",
       "      <td>100000.000000</td>\n",
       "      <td>100000.000000</td>\n",
       "      <td>100000.000000</td>\n",
       "      <td>100000.000000</td>\n",
       "      <td>100000.00000</td>\n",
       "      <td>100000.000000</td>\n",
       "    </tr>\n",
       "    <tr>\n",
       "      <th>mean</th>\n",
       "      <td>0.578590</td>\n",
       "      <td>1855.279910</td>\n",
       "      <td>58.402450</td>\n",
       "      <td>4.012840</td>\n",
       "      <td>1.385410</td>\n",
       "      <td>0.123480</td>\n",
       "      <td>95.816450</td>\n",
       "      <td>3.31673</td>\n",
       "      <td>81.668540</td>\n",
       "    </tr>\n",
       "    <tr>\n",
       "      <th>std</th>\n",
       "      <td>0.493787</td>\n",
       "      <td>2712.385257</td>\n",
       "      <td>18.643736</td>\n",
       "      <td>0.285265</td>\n",
       "      <td>1.617101</td>\n",
       "      <td>0.328989</td>\n",
       "      <td>50.161327</td>\n",
       "      <td>1.24147</td>\n",
       "      <td>9.952554</td>\n",
       "    </tr>\n",
       "    <tr>\n",
       "      <th>min</th>\n",
       "      <td>0.000000</td>\n",
       "      <td>1130.000000</td>\n",
       "      <td>-20.000000</td>\n",
       "      <td>3.000000</td>\n",
       "      <td>0.000000</td>\n",
       "      <td>0.000000</td>\n",
       "      <td>30.000000</td>\n",
       "      <td>1.00000</td>\n",
       "      <td>72.000000</td>\n",
       "    </tr>\n",
       "    <tr>\n",
       "      <th>25%</th>\n",
       "      <td>0.000000</td>\n",
       "      <td>1674.000000</td>\n",
       "      <td>47.000000</td>\n",
       "      <td>4.000000</td>\n",
       "      <td>0.000000</td>\n",
       "      <td>0.000000</td>\n",
       "      <td>45.000000</td>\n",
       "      <td>3.00000</td>\n",
       "      <td>78.000000</td>\n",
       "    </tr>\n",
       "    <tr>\n",
       "      <th>50%</th>\n",
       "      <td>1.000000</td>\n",
       "      <td>1805.000000</td>\n",
       "      <td>56.000000</td>\n",
       "      <td>4.000000</td>\n",
       "      <td>1.000000</td>\n",
       "      <td>0.000000</td>\n",
       "      <td>87.000000</td>\n",
       "      <td>4.00000</td>\n",
       "      <td>81.000000</td>\n",
       "    </tr>\n",
       "    <tr>\n",
       "      <th>75%</th>\n",
       "      <td>1.000000</td>\n",
       "      <td>1907.000000</td>\n",
       "      <td>70.000000</td>\n",
       "      <td>4.000000</td>\n",
       "      <td>2.000000</td>\n",
       "      <td>0.000000</td>\n",
       "      <td>133.000000</td>\n",
       "      <td>4.00000</td>\n",
       "      <td>85.000000</td>\n",
       "    </tr>\n",
       "    <tr>\n",
       "      <th>max</th>\n",
       "      <td>1.000000</td>\n",
       "      <td>229821.000000</td>\n",
       "      <td>449.000000</td>\n",
       "      <td>6.000000</td>\n",
       "      <td>9.000000</td>\n",
       "      <td>1.000000</td>\n",
       "      <td>181.000000</td>\n",
       "      <td>7.00000</td>\n",
       "      <td>332.000000</td>\n",
       "    </tr>\n",
       "  </tbody>\n",
       "</table>\n",
       "</div>"
      ],
      "text/plain": [
       "         active_cust         income  months_on_network  Num_complaints  \\\n",
       "count  100000.000000  100000.000000      100000.000000   100000.000000   \n",
       "mean        0.578590    1855.279910          58.402450        4.012840   \n",
       "std         0.493787    2712.385257          18.643736        0.285265   \n",
       "min         0.000000    1130.000000         -20.000000        3.000000   \n",
       "25%         0.000000    1674.000000          47.000000        4.000000   \n",
       "50%         1.000000    1805.000000          56.000000        4.000000   \n",
       "75%         1.000000    1907.000000          70.000000        4.000000   \n",
       "max         1.000000  229821.000000         449.000000        6.000000   \n",
       "\n",
       "       number_plan_changes      relocated   monthly_bill  \\\n",
       "count        100000.000000  100000.000000  100000.000000   \n",
       "mean              1.385410       0.123480      95.816450   \n",
       "std               1.617101       0.328989      50.161327   \n",
       "min               0.000000       0.000000      30.000000   \n",
       "25%               0.000000       0.000000      45.000000   \n",
       "50%               1.000000       0.000000      87.000000   \n",
       "75%               2.000000       0.000000     133.000000   \n",
       "max               9.000000       1.000000     181.000000   \n",
       "\n",
       "       technical_issues_per_month  Speed_test_result  \n",
       "count                100000.00000      100000.000000  \n",
       "mean                      3.31673          81.668540  \n",
       "std                       1.24147           9.952554  \n",
       "min                       1.00000          72.000000  \n",
       "25%                       3.00000          78.000000  \n",
       "50%                       4.00000          81.000000  \n",
       "75%                       4.00000          85.000000  \n",
       "max                       7.00000         332.000000  "
      ]
     },
     "execution_count": 8,
     "metadata": {},
     "output_type": "execute_result"
    }
   ],
   "source": [
    "fb.describe()"
   ]
  },
  {
   "cell_type": "markdown",
   "metadata": {},
   "source": [
    "# HYPOTHESIS TESTING:\n",
    "\n",
    "\n",
    "\n",
    "* null hypothesis:\n",
    "              * avg income for churners and non churners are the same \n",
    "              \n",
    "* alternative hypothesis:\n",
    "               * avg income is not same for both churners and non churners"
   ]
  },
  {
   "cell_type": "code",
   "execution_count": 13,
   "metadata": {},
   "outputs": [
    {
     "data": {
      "text/plain": [
       "Ttest_indResult(statistic=0.37970892046270366, pvalue=0.7041623040501036)"
      ]
     },
     "execution_count": 13,
     "metadata": {},
     "output_type": "execute_result"
    }
   ],
   "source": [
    "from scipy.stats import ttest_ind\n",
    "group1=fb[fb[\"active_cust\"]==1]\n",
    "group0=fb[fb[\"active_cust\"]==0]\n",
    "ttest_ind(group1[\"income\"],group0[\"income\"])"
   ]
  },
  {
   "cell_type": "markdown",
   "metadata": {},
   "source": [
    "# conclusion:\n",
    "          * there is no strong evidence to reject the null hypothesis \n",
    "          * avg income for both churners and non chuners are the same"
   ]
  },
  {
   "cell_type": "code",
   "execution_count": 14,
   "metadata": {},
   "outputs": [
    {
     "data": {
      "text/plain": [
       "1851.4636577205097"
      ]
     },
     "execution_count": 14,
     "metadata": {},
     "output_type": "execute_result"
    }
   ],
   "source": [
    "group0[\"income\"].mean()"
   ]
  },
  {
   "cell_type": "code",
   "execution_count": 15,
   "metadata": {},
   "outputs": [
    {
     "data": {
      "text/plain": [
       "1858.0594375982994"
      ]
     },
     "execution_count": 15,
     "metadata": {},
     "output_type": "execute_result"
    }
   ],
   "source": [
    "group1[\"income\"].mean()"
   ]
  },
  {
   "cell_type": "code",
   "execution_count": 18,
   "metadata": {},
   "outputs": [
    {
     "data": {
      "text/plain": [
       "<matplotlib.axes._subplots.AxesSubplot at 0x230c3e3ed00>"
      ]
     },
     "execution_count": 18,
     "metadata": {},
     "output_type": "execute_result"
    },
    {
     "data": {
      "image/png": "[encoded data removed]",
      "text/plain": [
       "<Figure size 432x288 with 1 Axes>"
      ]
     },
     "metadata": {
      "needs_background": "light"
     },
     "output_type": "display_data"
    }
   ],
   "source": [
    "sbn.countplot(group1[\"income\"])"
   ]
  },
  {
   "cell_type": "code",
   "execution_count": 19,
   "metadata": {},
   "outputs": [
    {
     "data": {
      "text/plain": [
       "<matplotlib.axes._subplots.AxesSubplot at 0x230c28b29d0>"
      ]
     },
     "execution_count": 19,
     "metadata": {},
     "output_type": "execute_result"
    },
    {
     "data": {
      "image/png": "[encoded data removed]",
      "text/plain": [
       "<Figure size 432x288 with 1 Axes>"
      ]
     },
     "metadata": {
      "needs_background": "light"
     },
     "output_type": "display_data"
    }
   ],
   "source": [
    "sbn.countplot(group0[\"income\"])"
   ]
  },
  {
   "cell_type": "code",
   "execution_count": null,
   "metadata": {},
   "outputs": [],
   "source": []
  }
 ],
 "metadata": {
  "kernelspec": {
   "display_name": "Python 3",
   "language": "python",
   "name": "python3"
  },
  "language_info": {
   "codemirror_mode": {
    "name": "ipython",
    "version": 3
   },
   "file_extension": ".py",
   "mimetype": "text/x-python",
   "name": "python",
   "nbconvert_exporter": "python",
   "pygments_lexer": "ipython3",
   "version": "3.8.3"
  }
 },
 "nbformat": 4,
 "nbformat_minor": 4
}
