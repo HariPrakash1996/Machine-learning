{
 "cells": [
  {
   "cell_type": "markdown",
   "metadata": {},
   "source": [
    "#                                          KNN ALGORITHM\n",
    "\n",
    "\n",
    "* It stands for k nearest neighbour alogorithm\n",
    "* it is a supervised learning alogorithm \n",
    "* it has 1).REGRESSION: TRYing to predict the numerical data \n",
    "* 2). classification: tryting to predict the categorical data\n",
    "* it is one of the simplest ML\n",
    "* it assumes the similarities between the new cases or the data and available cases and put the new available cases into the \n",
    "* to the categorical data that is more similar to the available category\n",
    "\n",
    "* it is also calle lazy learner algorithm bcz it doesnot learn from trainset immediately instaed  it stores the dataset \n",
    "* at the time of classification it performs action \n",
    "\n",
    "*  knn is a non parametric it doesnot make any assumptions on underlining dataset \n",
    "\n"
   ]
  },
  {
   "cell_type": "markdown",
   "metadata": {},
   "source": [
    "# why do we need a knn algorithm\n",
    "\n",
    "* if we have 2 categorical block of data and one new datapoint is there to assign this new datapoint we use knn "
   ]
  },
  {
   "cell_type": "markdown",
   "metadata": {},
   "source": [
    "# how does knn works\n",
    "\n",
    "* step:1\n",
    "* firstly it selects the no of k of neighbours.\n",
    "* step 2:\n",
    "* calculate the euclidean distance of k neighbors.\n",
    "* step 3:\n",
    "* it takes the knn as per the euclidean distance \n",
    "* step 4:\n",
    "* among these knn count the no of datapoints on each category\n",
    "* step 5:\n",
    "* assign a new datapoints to the category for which the no of neighbors are max \n",
    "* step 6:\n",
    "*  our model is ready"
   ]
  },
  {
   "cell_type": "markdown",
   "metadata": {},
   "source": [
    "# how to choose k value in knn\n",
    "\n",
    "* by default it takes k=5 always preferres'\n",
    "* k=1 or k=2 can be noisy and leads to the effects of out;iers in the model\n",
    "* for larger values k is good execution process can be difficult\n",
    "* "
   ]
  },
  {
   "cell_type": "markdown",
   "metadata": {},
   "source": [
    "# ADVANTAGES:\n",
    "\n",
    "\n",
    "\n",
    "* IT IS simple to implement\n",
    "* it is robust to noisy training dataset\n",
    "* it can be more effective if the tarining data is large "
   ]
  },
  {
   "cell_type": "markdown",
   "metadata": {},
   "source": [
    "# DIS_ADV\n",
    "\n",
    "\n",
    "* the computational cost is high bcz of calculating the distance between all the tarining points for large samples\n",
    "* always determine value of k "
   ]
  },
  {
   "cell_type": "markdown",
   "metadata": {},
   "source": [
    "# how to implement the knn algorithm\n",
    "\n",
    "\n",
    "* data pre_processing step\n",
    "* fitting the knn to the tarining dataset\n",
    "* predicting the testing results\n",
    "* test accuracy of results\n",
    "* visualizing the test results"
   ]
  },
  {
   "cell_type": "code",
   "execution_count": 1,
   "metadata": {},
   "outputs": [],
   "source": [
    "import numpy as np\n",
    "import pandas as pd\n",
    "import os\n",
    "import glob\n",
    "import matplotlib.pyplot as plt\n",
    "import seaborn as sbn"
   ]
  },
  {
   "cell_type": "code",
   "execution_count": 51,
   "metadata": {},
   "outputs": [],
   "source": [
    "x=pd.read_excel(r\"C:\\Users\\harid\\OneDrive\\Desktop\\python\\data\\datasets\\Product_sales_v1.xlsx\")"
   ]
  },
  {
   "cell_type": "code",
   "execution_count": 52,
   "metadata": {},
   "outputs": [
    {
     "data": {
      "text/plain": [
       "(467, 2)"
      ]
     },
     "execution_count": 52,
     "metadata": {},
     "output_type": "execute_result"
    }
   ],
   "source": [
    "x.shape"
   ]
  },
  {
   "cell_type": "code",
   "execution_count": 53,
   "metadata": {},
   "outputs": [
    {
     "data": {
      "text/plain": [
       "Index(['Age', 'Bought'], dtype='object')"
      ]
     },
     "execution_count": 53,
     "metadata": {},
     "output_type": "execute_result"
    }
   ],
   "source": [
    "x.columns"
   ]
  },
  {
   "cell_type": "code",
   "execution_count": 54,
   "metadata": {},
   "outputs": [],
   "source": [
    "# extarcting the independent and dependent variables\n",
    "\n",
    "a=x.iloc[:,[0,1]]\n",
    "b=x.iloc[:,1]"
   ]
  },
  {
   "cell_type": "code",
   "execution_count": 55,
   "metadata": {},
   "outputs": [
    {
     "data": {
      "text/html": [
       "<div>\n",
       "<style scoped>\n",
       "    .dataframe tbody tr th:only-of-type {\n",
       "        vertical-align: middle;\n",
       "    }\n",
       "\n",
       "    .dataframe tbody tr th {\n",
       "        vertical-align: top;\n",
       "    }\n",
       "\n",
       "    .dataframe thead th {\n",
       "        text-align: right;\n",
       "    }\n",
       "</style>\n",
       "<table border=\"1\" class=\"dataframe\">\n",
       "  <thead>\n",
       "    <tr style=\"text-align: right;\">\n",
       "      <th></th>\n",
       "      <th>Age</th>\n",
       "      <th>Bought</th>\n",
       "    </tr>\n",
       "  </thead>\n",
       "  <tbody>\n",
       "    <tr>\n",
       "      <th>0</th>\n",
       "      <td>1</td>\n",
       "      <td>0</td>\n",
       "    </tr>\n",
       "    <tr>\n",
       "      <th>1</th>\n",
       "      <td>1</td>\n",
       "      <td>0</td>\n",
       "    </tr>\n",
       "    <tr>\n",
       "      <th>2</th>\n",
       "      <td>1</td>\n",
       "      <td>0</td>\n",
       "    </tr>\n",
       "    <tr>\n",
       "      <th>3</th>\n",
       "      <td>1</td>\n",
       "      <td>0</td>\n",
       "    </tr>\n",
       "    <tr>\n",
       "      <th>4</th>\n",
       "      <td>1</td>\n",
       "      <td>0</td>\n",
       "    </tr>\n",
       "    <tr>\n",
       "      <th>...</th>\n",
       "      <td>...</td>\n",
       "      <td>...</td>\n",
       "    </tr>\n",
       "    <tr>\n",
       "      <th>462</th>\n",
       "      <td>43</td>\n",
       "      <td>0</td>\n",
       "    </tr>\n",
       "    <tr>\n",
       "      <th>463</th>\n",
       "      <td>60</td>\n",
       "      <td>1</td>\n",
       "    </tr>\n",
       "    <tr>\n",
       "      <th>464</th>\n",
       "      <td>63</td>\n",
       "      <td>1</td>\n",
       "    </tr>\n",
       "    <tr>\n",
       "      <th>465</th>\n",
       "      <td>50</td>\n",
       "      <td>0</td>\n",
       "    </tr>\n",
       "    <tr>\n",
       "      <th>466</th>\n",
       "      <td>61</td>\n",
       "      <td>1</td>\n",
       "    </tr>\n",
       "  </tbody>\n",
       "</table>\n",
       "<p>467 rows × 2 columns</p>\n",
       "</div>"
      ],
      "text/plain": [
       "     Age  Bought\n",
       "0      1       0\n",
       "1      1       0\n",
       "2      1       0\n",
       "3      1       0\n",
       "4      1       0\n",
       "..   ...     ...\n",
       "462   43       0\n",
       "463   60       1\n",
       "464   63       1\n",
       "465   50       0\n",
       "466   61       1\n",
       "\n",
       "[467 rows x 2 columns]"
      ]
     },
     "execution_count": 55,
     "metadata": {},
     "output_type": "execute_result"
    }
   ],
   "source": [
    "a"
   ]
  },
  {
   "cell_type": "code",
   "execution_count": 56,
   "metadata": {},
   "outputs": [
    {
     "data": {
      "text/plain": [
       "0      0\n",
       "1      0\n",
       "2      0\n",
       "3      0\n",
       "4      0\n",
       "      ..\n",
       "462    0\n",
       "463    1\n",
       "464    1\n",
       "465    0\n",
       "466    1\n",
       "Name: Bought, Length: 467, dtype: int64"
      ]
     },
     "execution_count": 56,
     "metadata": {},
     "output_type": "execute_result"
    }
   ],
   "source": [
    "b"
   ]
  },
  {
   "cell_type": "code",
   "execution_count": 57,
   "metadata": {},
   "outputs": [],
   "source": [
    "# splitting the data into train test \n",
    "\n",
    "from sklearn.model_selection import train_test_split\n",
    "a_train,a_test,b_train,b_test=train_test_split(a,b,test_size=0.25,random_state=42)"
   ]
  },
  {
   "cell_type": "code",
   "execution_count": 58,
   "metadata": {},
   "outputs": [
    {
     "data": {
      "text/plain": [
       "350"
      ]
     },
     "execution_count": 58,
     "metadata": {},
     "output_type": "execute_result"
    }
   ],
   "source": [
    "len(a_train)"
   ]
  },
  {
   "cell_type": "code",
   "execution_count": 59,
   "metadata": {},
   "outputs": [
    {
     "data": {
      "text/plain": [
       "117"
      ]
     },
     "execution_count": 59,
     "metadata": {},
     "output_type": "execute_result"
    }
   ],
   "source": [
    "len(a_test)"
   ]
  },
  {
   "cell_type": "code",
   "execution_count": 60,
   "metadata": {},
   "outputs": [],
   "source": [
    "# feature scaling\n",
    "\n",
    "from sklearn.preprocessing import StandardScaler"
   ]
  },
  {
   "cell_type": "code",
   "execution_count": 61,
   "metadata": {},
   "outputs": [],
   "source": [
    "st=StandardScaler()\n",
    "a_train=st.fit_transform(a_train)\n",
    "a_test=st.fit_transform(a_test)"
   ]
  },
  {
   "cell_type": "code",
   "execution_count": 19,
   "metadata": {},
   "outputs": [
    {
     "data": {
      "text/plain": [
       "array([[-1.11766834e+00,  1.09621860e+00],\n",
       "       [ 1.31767413e+00, -1.23265840e+00],\n",
       "       [ 3.35844609e-02, -1.55210567e-01],\n",
       "       [ 1.60548733e+00, -1.56560745e+00],\n",
       "       [-8.96273573e-01,  7.71217942e-01],\n",
       "       [-1.06944931e-02, -1.26066486e-01],\n",
       "       [-1.20622625e+00,  1.21986016e+00],\n",
       "       [ 1.25125570e+00, -1.06927492e+00],\n",
       "       [ 1.42837151e+00, -1.34658526e+00],\n",
       "       [-1.44976050e+00,  1.58725220e+00],\n",
       "       [ 5.57239378e-02, -1.91419880e-01],\n",
       "       [-1.87810309e-01,  1.41529165e-01],\n",
       "       [ 1.02986093e+00, -8.76747356e-01],\n",
       "       [-1.09552887e+00,  1.04411252e+00],\n",
       "       [ 2.10700277e-01, -2.70020582e-01],\n",
       "       [ 1.11841883e+00, -9.68595368e-01],\n",
       "       [-7.85576188e-01,  6.19315460e-01],\n",
       "       [-1.60473684e+00,  1.76476615e+00],\n",
       "       [-9.84831481e-01,  9.25769885e-01],\n",
       "       [-3.64926125e-01,  3.01380032e-01],\n",
       "       [ 1.64976628e+00, -1.62654507e+00],\n",
       "       [-2.32089263e-01,  2.29844561e-01],\n",
       "       [-1.33906311e+00,  1.33996909e+00],\n",
       "       [ 1.05200040e+00, -8.91760973e-01],\n",
       "       [-1.47189997e+00,  1.63317621e+00],\n",
       "       [ 6.97768771e-01, -6.48893633e-01],\n",
       "       [ 6.09210863e-01, -5.65877160e-01],\n",
       "       [-1.69329474e+00,  1.90607079e+00],\n",
       "       [ 8.30605632e-01, -7.23078566e-01],\n",
       "       [-2.76368217e-01,  2.47507641e-01],\n",
       "       [-7.19157757e-01,  5.00089674e-01],\n",
       "       [ 1.00002892e-01, -2.09082959e-01],\n",
       "       [-1.07338939e+00,  1.01231897e+00],\n",
       "       [-8.07715665e-01,  6.52875310e-01],\n",
       "       [ 1.49478994e+00, -1.42165335e+00],\n",
       "       [-1.13980782e+00,  1.16687092e+00],\n",
       "       [-1.18408677e+00,  1.20926231e+00],\n",
       "       [ 7.64187202e-01, -6.63907250e-01],\n",
       "       [-8.29855142e-01,  7.42073861e-01],\n",
       "       [ 1.88560800e-01, -2.69137428e-01],\n",
       "       [ 5.42792432e-01, -5.04939537e-01],\n",
       "       [ 1.69404524e+00, -1.73428986e+00],\n",
       "       [ 1.22911622e+00, -1.03924769e+00],\n",
       "       [-6.52739326e-01,  4.82426595e-01],\n",
       "       [ 8.52745109e-01, -7.57521571e-01],\n",
       "       [-3.42786648e-01,  2.91665339e-01],\n",
       "       [-7.71129241e-02, -2.62700883e-02],\n",
       "       [-9.62692004e-01,  9.06340498e-01],\n",
       "       [ 6.31350340e-01, -5.67643468e-01],\n",
       "       [ 7.86326678e-01, -6.94817639e-01],\n",
       "       [ 9.41303017e-01, -8.05211885e-01],\n",
       "       [-3.20647171e-01,  2.87249569e-01],\n",
       "       [ 3.87816093e-01, -4.14857833e-01],\n",
       "       [ 4.54234524e-01, -4.80211226e-01],\n",
       "       [-5.19902464e-01,  3.76448119e-01],\n",
       "       [-1.58259736e+00,  1.74621992e+00],\n",
       "       [ 7.42047725e-01, -6.60374635e-01],\n",
       "       [ 9.19163540e-01, -8.04328731e-01],\n",
       "       [-6.08460372e-01,  4.58581438e-01],\n",
       "       [-9.18413050e-01,  7.95063099e-01],\n",
       "       [ 7.78634148e-02, -2.07316651e-01],\n",
       "       [ 1.14449839e-02, -1.41963258e-01],\n",
       "       [-9.40552527e-01,  8.67481724e-01],\n",
       "       [-6.74878803e-01,  4.90374981e-01],\n",
       "       [-1.53831841e+00,  1.70912745e+00],\n",
       "       [-7.41297234e-01,  5.07154906e-01],\n",
       "       [-1.43531355e-01,  4.26159210e-02],\n",
       "       [ 1.56120837e+00, -1.54617806e+00],\n",
       "       [ 3.21397662e-01, -3.67167518e-01],\n",
       "       [ 1.44281846e-01, -2.55006965e-01],\n",
       "       [ 1.45051099e+00, -1.35365050e+00],\n",
       "       [ 1.47265047e+00, -1.39869135e+00],\n",
       "       [ 2.77118708e-01, -3.14178281e-01],\n",
       "       [-1.51617893e+00,  1.64024144e+00],\n",
       "       [ 8.08466155e-01, -7.02766025e-01],\n",
       "       [-1.40548154e+00,  1.55280920e+00],\n",
       "       [-3.87065602e-01,  3.19926266e-01],\n",
       "       [ 1.29553465e+00, -1.19379963e+00],\n",
       "       [-1.62687631e+00,  1.84866578e+00],\n",
       "       [-1.31692364e+00,  1.33467017e+00],\n",
       "       [-8.51994619e-01,  7.65035864e-01],\n",
       "       [-9.92524011e-02,  2.24530669e-04],\n",
       "       [ 1.36195308e+00, -1.27151718e+00],\n",
       "       [-1.56045788e+00,  1.72149161e+00],\n",
       "       [ 1.20697674e+00, -1.02246776e+00],\n",
       "       [ 5.20652955e-01, -4.96107997e-01],\n",
       "       [-1.64901579e+00,  1.85308155e+00],\n",
       "       [ 9.63442494e-01, -8.07861347e-01],\n",
       "       [-2.98507694e-01,  2.53689718e-01],\n",
       "       [-4.97762987e-01,  3.70266042e-01],\n",
       "       [ 6.75629294e-01, -6.30347400e-01],\n",
       "       [-5.86320895e-01,  4.07358508e-01],\n",
       "       [ 1.73832419e+00, -2.13965752e+00],\n",
       "       [-4.09205079e-01,  3.39355653e-01],\n",
       "       [-6.30599849e-01,  4.69179286e-01],\n",
       "       [ 2.54979231e-01, -2.92099432e-01],\n",
       "       [-1.22836573e+00,  1.25783578e+00],\n",
       "       [-4.31344556e-01,  3.49070347e-01],\n",
       "       [ 1.67190576e+00, -1.63714292e+00],\n",
       "       [ 1.16269779e+00, -9.99505757e-01],\n",
       "       [-8.74134096e-01,  7.67685326e-01],\n",
       "       [ 1.58334785e+00, -1.55589275e+00],\n",
       "       [-1.67115527e+00,  1.88310878e+00],\n",
       "       [-5.42041941e-01,  3.96760661e-01],\n",
       "       [ 1.18483726e+00, -1.00392153e+00],\n",
       "       [ 5.87071386e-01, -5.55279313e-01],\n",
       "       [ 4.98513478e-01, -4.89925920e-01],\n",
       "       [ 8.74884586e-01, -7.62820494e-01],\n",
       "       [ 2.32839754e-01, -2.88566816e-01],\n",
       "       [-5.49734471e-02, -6.07130929e-02],\n",
       "       [ 9.85581971e-01, -8.09627655e-01],\n",
       "       [ 1.78260314e+00, -2.28714424e+00],\n",
       "       [-1.25050520e+00,  1.27019993e+00],\n",
       "       [-1.21391878e-01,  3.99664591e-02],\n",
       "       [ 6.53489817e-01, -6.09151705e-01],\n",
       "       [-1.38334207e+00,  1.49275473e+00],\n",
       "       [ 3.43537139e-01, -3.72466442e-01],\n",
       "       [ 5.64931909e-01, -5.20836308e-01]])"
      ]
     },
     "execution_count": 19,
     "metadata": {},
     "output_type": "execute_result"
    }
   ],
   "source": [
    "a_train"
   ]
  },
  {
   "cell_type": "code",
   "execution_count": 62,
   "metadata": {},
   "outputs": [
    {
     "data": {
      "text/plain": [
       "array([[-1.05357059, -0.9258201 ],\n",
       "       [-1.01040961, -0.9258201 ],\n",
       "       [-1.13989256, -0.9258201 ],\n",
       "       [ 0.58654665, -0.9258201 ],\n",
       "       [-1.01040961, -0.9258201 ],\n",
       "       [-0.49247785, -0.9258201 ],\n",
       "       [-0.53563883, -0.9258201 ],\n",
       "       [-1.22621452, -0.9258201 ],\n",
       "       [-0.66512177, -0.9258201 ],\n",
       "       [ 1.06131744,  1.08012345],\n",
       "       [-0.96724863, -0.9258201 ],\n",
       "       [-1.01040961, -0.9258201 ],\n",
       "       [ 1.44976626,  1.08012345],\n",
       "       [-0.96724863, -0.9258201 ],\n",
       "       [ 1.23396136,  1.08012345],\n",
       "       [ 0.50022469,  1.08012345],\n",
       "       [ 1.44976626,  1.08012345],\n",
       "       [ 0.62970763,  1.08012345],\n",
       "       [ 0.54338567,  1.08012345],\n",
       "       [-0.96724863, -0.9258201 ],\n",
       "       [-1.22621452, -0.9258201 ],\n",
       "       [-0.92408765, -0.9258201 ],\n",
       "       [-1.22621452, -0.9258201 ],\n",
       "       [ 1.01815646,  1.08012345],\n",
       "       [-0.96724863, -0.9258201 ],\n",
       "       [-0.57879981, -0.9258201 ],\n",
       "       [ 0.45706371,  1.08012345],\n",
       "       [ 1.23396136,  1.08012345],\n",
       "       [-1.13989256, -0.9258201 ],\n",
       "       [-0.53563883, -0.9258201 ],\n",
       "       [-0.66512177, -0.9258201 ],\n",
       "       [ 1.10447842,  1.08012345],\n",
       "       [ 0.50022469,  1.08012345],\n",
       "       [-0.92408765, -0.9258201 ],\n",
       "       [-1.18305354, -0.9258201 ],\n",
       "       [-1.09673158, -0.9258201 ],\n",
       "       [-0.96724863, -0.9258201 ],\n",
       "       [-1.01040961, -0.9258201 ],\n",
       "       [-0.79460471,  1.08012345],\n",
       "       [ 1.27712234,  1.08012345],\n",
       "       [-0.88092667, -0.9258201 ],\n",
       "       [-0.83776569, -0.9258201 ],\n",
       "       [-0.79460471, -0.9258201 ],\n",
       "       [-0.83776569, -0.9258201 ],\n",
       "       [ 1.23396136,  1.08012345],\n",
       "       [-0.44931687, -0.9258201 ],\n",
       "       [ 1.40660528,  1.08012345],\n",
       "       [ 1.10447842,  1.08012345],\n",
       "       [ 0.75919058,  1.08012345],\n",
       "       [-0.40615589, -0.9258201 ],\n",
       "       [ 1.06131744,  1.08012345],\n",
       "       [ 1.32028332,  1.08012345],\n",
       "       [-0.83776569, -0.9258201 ],\n",
       "       [-0.40615589, -0.9258201 ],\n",
       "       [ 0.67286862,  1.08012345],\n",
       "       [-0.62196079, -0.9258201 ],\n",
       "       [-0.96724863, -0.9258201 ],\n",
       "       [ 0.54338567,  1.08012345],\n",
       "       [ 1.06131744,  1.08012345],\n",
       "       [ 1.01815646,  1.08012345],\n",
       "       [ 1.44976626, -0.9258201 ],\n",
       "       [ 1.10447842,  1.08012345],\n",
       "       [ 1.23396136,  1.08012345],\n",
       "       [ 1.53608822,  1.08012345],\n",
       "       [ 1.49292724,  1.08012345],\n",
       "       [-0.62196079, -0.9258201 ],\n",
       "       [ 0.67286862,  1.08012345],\n",
       "       [-0.83776569, -0.9258201 ],\n",
       "       [ 0.84551254,  1.08012345],\n",
       "       [ 1.44976626,  1.08012345],\n",
       "       [-1.22621452, -0.9258201 ],\n",
       "       [ 1.19080038,  1.08012345],\n",
       "       [ 1.53608822,  1.08012345],\n",
       "       [-1.18305354, -0.9258201 ],\n",
       "       [ 1.19080038,  1.08012345],\n",
       "       [ 1.53608822,  1.08012345],\n",
       "       [-1.05357059, -0.9258201 ],\n",
       "       [ 1.06131744,  1.08012345],\n",
       "       [-0.75144373, -0.9258201 ],\n",
       "       [ 1.10447842,  1.08012345],\n",
       "       [ 0.45706371,  1.08012345],\n",
       "       [ 1.3634443 ,  1.08012345],\n",
       "       [ 1.19080038,  1.08012345],\n",
       "       [-1.18305354, -0.9258201 ],\n",
       "       [-0.57879981, -0.9258201 ],\n",
       "       [ 0.88867352,  1.08012345],\n",
       "       [ 1.06131744,  1.08012345],\n",
       "       [-1.09673158, -0.9258201 ],\n",
       "       [ 0.58654665,  1.08012345],\n",
       "       [ 0.50022469,  1.08012345],\n",
       "       [ 0.45706371,  1.08012345],\n",
       "       [-0.57879981, -0.9258201 ],\n",
       "       [-0.57879981, -0.9258201 ],\n",
       "       [-0.75144373, -0.9258201 ],\n",
       "       [ 0.84551254,  1.08012345],\n",
       "       [-1.18305354, -0.9258201 ],\n",
       "       [ 0.7160296 ,  1.08012345],\n",
       "       [-1.09673158, -0.9258201 ],\n",
       "       [-0.75144373, -0.9258201 ],\n",
       "       [ 1.44976626,  1.08012345],\n",
       "       [-0.75144373, -0.9258201 ],\n",
       "       [ 1.44976626,  1.08012345],\n",
       "       [-1.05357059, -0.9258201 ],\n",
       "       [-0.66512177, -0.9258201 ],\n",
       "       [ 0.54338567,  1.08012345],\n",
       "       [-1.18305354, -0.9258201 ],\n",
       "       [-1.18305354, -0.9258201 ],\n",
       "       [-1.01040961, -0.9258201 ],\n",
       "       [ 1.06131744,  1.08012345],\n",
       "       [-0.92408765, -0.9258201 ],\n",
       "       [-1.13989256,  1.08012345],\n",
       "       [-0.92408765, -0.9258201 ],\n",
       "       [ 1.06131744,  1.08012345],\n",
       "       [-0.75144373, -0.9258201 ],\n",
       "       [-0.44931687, -0.9258201 ],\n",
       "       [ 1.49292724,  1.08012345],\n",
       "       [-0.92408765, -0.9258201 ]])"
      ]
     },
     "execution_count": 62,
     "metadata": {},
     "output_type": "execute_result"
    }
   ],
   "source": [
    "a_test"
   ]
  },
  {
   "cell_type": "code",
   "execution_count": 63,
   "metadata": {},
   "outputs": [],
   "source": [
    "# knn fitting\n",
    "\n",
    "from sklearn.neighbors import KNeighborsClassifier"
   ]
  },
  {
   "cell_type": "code",
   "execution_count": 64,
   "metadata": {},
   "outputs": [
    {
     "data": {
      "text/plain": [
       "{'algorithm': 'auto',\n",
       " 'leaf_size': 30,\n",
       " 'metric': 'minkowski',\n",
       " 'metric_params': None,\n",
       " 'n_jobs': None,\n",
       " 'n_neighbors': 5,\n",
       " 'p': 2,\n",
       " 'weights': 'uniform'}"
      ]
     },
     "execution_count": 64,
     "metadata": {},
     "output_type": "execute_result"
    }
   ],
   "source": [
    "classifier=KNeighborsClassifier(n_neighbors=5,p=2)\n",
    "classifier.fit(a_train,b_train)\n",
    "classifier.get_params()"
   ]
  },
  {
   "cell_type": "code",
   "execution_count": 65,
   "metadata": {},
   "outputs": [],
   "source": [
    "y_predict=classifier.predict(a_test)"
   ]
  },
  {
   "cell_type": "code",
   "execution_count": 66,
   "metadata": {},
   "outputs": [
    {
     "data": {
      "text/plain": [
       "array([0, 0, 0, 0, 0, 0, 0, 0, 0, 1, 0, 0, 1, 0, 1, 1, 1, 1, 1, 0, 0, 0,\n",
       "       0, 1, 0, 0, 1, 1, 0, 0, 0, 1, 1, 0, 0, 0, 0, 0, 1, 1, 0, 0, 0, 0,\n",
       "       1, 0, 1, 1, 1, 0, 1, 1, 0, 0, 1, 0, 0, 1, 1, 1, 0, 1, 1, 1, 1, 0,\n",
       "       1, 0, 1, 1, 0, 1, 1, 0, 1, 1, 0, 1, 0, 1, 1, 1, 1, 0, 0, 1, 1, 0,\n",
       "       1, 1, 1, 0, 0, 0, 1, 0, 1, 0, 0, 1, 0, 1, 0, 0, 1, 0, 0, 0, 1, 0,\n",
       "       1, 0, 1, 0, 0, 1, 0], dtype=int64)"
      ]
     },
     "execution_count": 66,
     "metadata": {},
     "output_type": "execute_result"
    }
   ],
   "source": [
    "y_predict"
   ]
  },
  {
   "cell_type": "code",
   "execution_count": 69,
   "metadata": {},
   "outputs": [
    {
     "data": {
      "text/plain": [
       "[0, 1]"
      ]
     },
     "execution_count": 69,
     "metadata": {},
     "output_type": "execute_result"
    }
   ],
   "source": [
    "list(pd.crosstab(b_test,y_predict))"
   ]
  },
  {
   "cell_type": "code",
   "execution_count": 68,
   "metadata": {},
   "outputs": [
    {
     "data": {
      "text/plain": [
       "array([[63,  0],\n",
       "       [ 0, 54]], dtype=int64)"
      ]
     },
     "execution_count": 68,
     "metadata": {},
     "output_type": "execute_result"
    }
   ],
   "source": [
    "from sklearn.metrics import confusion_matrix\n",
    "confusion_matrix(b_test,y_predict)"
   ]
  },
  {
   "cell_type": "code",
   "execution_count": null,
   "metadata": {},
   "outputs": [],
   "source": [
    "# visualization\n",
    "\n"
   ]
  },
  {
   "cell_type": "markdown",
   "metadata": {},
   "source": [
    "# real world appications for knn alo]gorithm\n",
    "\n",
    "* understand the credit racing\n",
    "* currency exchange rate\n",
    "* bank rup\n",
    "* trading\n",
    "* credit rating\n",
    "* bank customer profiling\n",
    "\n",
    "\n",
    "# knn we used to treat the missing value for that purpose"
   ]
  },
  {
   "cell_type": "code",
   "execution_count": null,
   "metadata": {},
   "outputs": [],
   "source": []
  }
 ],
 "metadata": {
  "kernelspec": {
   "display_name": "Python 3",
   "language": "python",
   "name": "python3"
  },
  "language_info": {
   "codemirror_mode": {
    "name": "ipython",
    "version": 3
   },
   "file_extension": ".py",
   "mimetype": "text/x-python",
   "name": "python",
   "nbconvert_exporter": "python",
   "pygments_lexer": "ipython3",
   "version": "3.8.3"
  }
 },
 "nbformat": 4,
 "nbformat_minor": 4
}
